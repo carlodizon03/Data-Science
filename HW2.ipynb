{
 "nbformat": 4,
 "nbformat_minor": 2,
 "metadata": {
  "language_info": {
   "name": "python",
   "codemirror_mode": {
    "name": "ipython",
    "version": 3
   },
   "version": "3.7.7-final"
  },
  "orig_nbformat": 2,
  "file_extension": ".py",
  "mimetype": "text/x-python",
  "name": "python",
  "npconvert_exporter": "python",
  "pygments_lexer": "ipython3",
  "version": 3,
  "kernelspec": {
   "name": "python361064bita3c2bb6626c0429181b5e1f1696712f0",
   "display_name": "Python 3.6.10 64-bit"
  }
 },
 "cells": [
  {
   "cell_type": "markdown",
   "metadata": {},
   "source": [
    "# 108-2 Data Mining\n",
    "## Homework #2 : Data Preprocessing\n",
    "## Instructor: Hsueh-Chan Lu\n",
    "## Submitted by: Carlo D. Pastoral\n",
    "## Student ID: N26087048\n"
   ]
  },
  {
   "cell_type": "markdown",
   "metadata": {},
   "source": [
    "In this homework, I am going to use **pandas**, **numpy** and **scipy** libraries for **data preprocessing**.\n",
    "\n",
    "In this preprocessing, I will be using a collection of data from top trending youtube videos that are being watched in the region of US.  \n",
    "\n",
    "This dataset was downloaded from kaggle (https://www.kaggle.com/datasnaek/youtube-new)"
   ]
  },
  {
   "cell_type": "code",
   "execution_count": 33,
   "metadata": {},
   "outputs": [],
   "source": [
    "import pandas as pd \n",
    "import numpy as np\n",
    "import json\n",
    "import pprint\n",
    "from scipy import stats\n",
    "from collections import  Counter\n",
    "from scipy.stats import entropy"
   ]
  },
  {
   "cell_type": "markdown",
   "metadata": {},
   "source": [
    "First, let us open the dataset using pandas. "
   ]
  },
  {
   "cell_type": "code",
   "execution_count": 34,
   "metadata": {},
   "outputs": [],
   "source": [
    "data = pd.read_csv('Data/USvideos.csv')"
   ]
  },
  {
   "cell_type": "markdown",
   "metadata": {},
   "source": [
    "Let us get 10 random and unchange sample and print it"
   ]
  },
  {
   "cell_type": "code",
   "execution_count": 35,
   "metadata": {},
   "outputs": [
    {
     "output_type": "execute_result",
     "data": {
      "text/plain": "          video_id trending_date  \\\n28095  AsTdC2RToIA      18.05.04   \n13284  0eUk_VN3e2A      18.21.01   \n3627   tuONqBMf3XA      17.02.12   \n34282  yAqHUwjnue4      18.12.05   \n22678  cIkEjFiUqwU      18.09.03   \n38343  Kc6CIwBVo5s      18.01.06   \n15558  LIEOeqNRikk      18.01.02   \n17203  K3ZwxsTOD_8      18.10.02   \n5253   a9B4AgwYG4E      17.10.12   \n39275  9NC2saE5MbQ      18.06.06   \n\n                                                   title  \\\n28095        I Followed A James Charles' Makeup Tutorial   \n13284    ASMR Lushful Spa Treatment ✨ Facial and Massage   \n3627   Alexa Chung Fears for Her Life While Eating Sp...   \n34282  Roma vs. Liverpool | 2017-18 UEFA Champions Le...   \n22678         Reverend Billy Graham's Funeral | NBC News   \n38343         Hawaiian lava flows ‘faster than a turtle’   \n15558                                  American vs. Brit   \n17203              Horton Hears a Who - Nostalgia Critic   \n5253   Idol EXPOSES Dark Side of KPOP | STORYTIME exp...   \n39275                         Camels vs. Cactus!!!   جمل   \n\n              channel_title  category_id              publish_time  \\\n28095               LaurDIY           26  2018-03-25T16:00:01.000Z   \n13284          ASMR Darling           24  2018-01-17T03:24:25.000Z   \n3627         First We Feast           26  2017-11-30T16:00:05.000Z   \n34282            FOX Soccer           17  2018-05-02T21:58:41.000Z   \n22678              NBC News           25  2018-03-02T20:24:58.000Z   \n38343  ABC News (Australia)           25  2018-05-07T22:34:57.000Z   \n15558            Oscar Fury           20  2018-01-26T19:37:39.000Z   \n17203       Channel Awesome           24  2018-02-07T23:00:01.000Z   \n5253       Henry Prince Mak           22  2017-12-09T16:28:01.000Z   \n39275      camelsandfriends           15  2018-05-23T13:33:03.000Z   \n\n                                                    tags    views  likes  \\\n28095  DIY|\"do it yourself\"|\"how to\"|\"laurDIY\"|\"laure...  2325254  91402   \n13284  taylor darling|\"asmr darling\"|\"tingles\"|\"spa\"|...  1060991  28364   \n3627   First we feast|\"fwf\"|\"firstwefeast\"|\"food\"|\"fo...   629474  21298   \n34282  uefa champions league|\"uefa\"|\"roma\"|\"as roma\"|...   571624   3628   \n22678  nbc news|\"breaking news\"|\"us news\"|\"world news...   466160   5360   \n38343  Australia|\"Kilauea\"|\"Hawai'i\"|\"Hawaii\"|\"Leilan...  9913561  48648   \n15558                                             [none]    21199    151   \n17203  channel awesome|\"nostalgia critic\"|\"doug walke...   650581  23538   \n5253   kpop|\"kpop idols\"|\"kpop idol\"|\"jjcc\"|\"prince m...    35704   8147   \n39275  camels|\"cactus\"|\"pets\"|\"livestock\"|\"animals\"|\"...  5307153  29203   \n\n       dislikes  comment_count  \\\n28095      1143           9182   \n13284      1791           7731   \n3627       1196           3615   \n34282       201           1064   \n22678      1164              0   \n38343      3813              0   \n15558        12             10   \n17203      1002           4743   \n5253         43            560   \n39275      4274          14548   \n\n                                       thumbnail_link  comments_disabled  \\\n28095  https://i.ytimg.com/vi/AsTdC2RToIA/default.jpg              False   \n13284  https://i.ytimg.com/vi/0eUk_VN3e2A/default.jpg              False   \n3627   https://i.ytimg.com/vi/tuONqBMf3XA/default.jpg              False   \n34282  https://i.ytimg.com/vi/yAqHUwjnue4/default.jpg              False   \n22678  https://i.ytimg.com/vi/cIkEjFiUqwU/default.jpg               True   \n38343  https://i.ytimg.com/vi/Kc6CIwBVo5s/default.jpg               True   \n15558  https://i.ytimg.com/vi/LIEOeqNRikk/default.jpg              False   \n17203  https://i.ytimg.com/vi/K3ZwxsTOD_8/default.jpg              False   \n5253   https://i.ytimg.com/vi/a9B4AgwYG4E/default.jpg              False   \n39275  https://i.ytimg.com/vi/9NC2saE5MbQ/default.jpg              False   \n\n       ratings_disabled  video_error_or_removed  \\\n28095             False                   False   \n13284             False                   False   \n3627              False                   False   \n34282             False                   False   \n22678             False                   False   \n38343             False                   False   \n15558             False                   False   \n17203             False                   False   \n5253              False                   False   \n39275             False                   False   \n\n                                             description  \n28095  ✂ click to join the #prettylittlelaurs fam!! h...  \n13284  Hello beautiful people! Sit back and enjoy the...  \n3627   Alexa Chung is one of the Hot Ones muses. Back...  \n34282  Watch highlights between AS Roma and Liverpool...  \n22678  Thousands gather for a funeral service at the ...  \n38343  Dozens of homes have been destroyed by Hawaii'...  \n15558  Google Home couldn't settle our relationship l...  \n17203  The Dr. Seuss movies have been pretty bad, but...  \n5253   Video on WHY I LEFT KPOP https://youtu.be/QRm1...  \n39275  Dromedary camels tear through prickly pear cac...  ",
      "text/html": "<div>\n<style scoped>\n    .dataframe tbody tr th:only-of-type {\n        vertical-align: middle;\n    }\n\n    .dataframe tbody tr th {\n        vertical-align: top;\n    }\n\n    .dataframe thead th {\n        text-align: right;\n    }\n</style>\n<table border=\"1\" class=\"dataframe\">\n  <thead>\n    <tr style=\"text-align: right;\">\n      <th></th>\n      <th>video_id</th>\n      <th>trending_date</th>\n      <th>title</th>\n      <th>channel_title</th>\n      <th>category_id</th>\n      <th>publish_time</th>\n      <th>tags</th>\n      <th>views</th>\n      <th>likes</th>\n      <th>dislikes</th>\n      <th>comment_count</th>\n      <th>thumbnail_link</th>\n      <th>comments_disabled</th>\n      <th>ratings_disabled</th>\n      <th>video_error_or_removed</th>\n      <th>description</th>\n    </tr>\n  </thead>\n  <tbody>\n    <tr>\n      <th>28095</th>\n      <td>AsTdC2RToIA</td>\n      <td>18.05.04</td>\n      <td>I Followed A James Charles' Makeup Tutorial</td>\n      <td>LaurDIY</td>\n      <td>26</td>\n      <td>2018-03-25T16:00:01.000Z</td>\n      <td>DIY|\"do it yourself\"|\"how to\"|\"laurDIY\"|\"laure...</td>\n      <td>2325254</td>\n      <td>91402</td>\n      <td>1143</td>\n      <td>9182</td>\n      <td>https://i.ytimg.com/vi/AsTdC2RToIA/default.jpg</td>\n      <td>False</td>\n      <td>False</td>\n      <td>False</td>\n      <td>✂ click to join the #prettylittlelaurs fam!! h...</td>\n    </tr>\n    <tr>\n      <th>13284</th>\n      <td>0eUk_VN3e2A</td>\n      <td>18.21.01</td>\n      <td>ASMR Lushful Spa Treatment ✨ Facial and Massage</td>\n      <td>ASMR Darling</td>\n      <td>24</td>\n      <td>2018-01-17T03:24:25.000Z</td>\n      <td>taylor darling|\"asmr darling\"|\"tingles\"|\"spa\"|...</td>\n      <td>1060991</td>\n      <td>28364</td>\n      <td>1791</td>\n      <td>7731</td>\n      <td>https://i.ytimg.com/vi/0eUk_VN3e2A/default.jpg</td>\n      <td>False</td>\n      <td>False</td>\n      <td>False</td>\n      <td>Hello beautiful people! Sit back and enjoy the...</td>\n    </tr>\n    <tr>\n      <th>3627</th>\n      <td>tuONqBMf3XA</td>\n      <td>17.02.12</td>\n      <td>Alexa Chung Fears for Her Life While Eating Sp...</td>\n      <td>First We Feast</td>\n      <td>26</td>\n      <td>2017-11-30T16:00:05.000Z</td>\n      <td>First we feast|\"fwf\"|\"firstwefeast\"|\"food\"|\"fo...</td>\n      <td>629474</td>\n      <td>21298</td>\n      <td>1196</td>\n      <td>3615</td>\n      <td>https://i.ytimg.com/vi/tuONqBMf3XA/default.jpg</td>\n      <td>False</td>\n      <td>False</td>\n      <td>False</td>\n      <td>Alexa Chung is one of the Hot Ones muses. Back...</td>\n    </tr>\n    <tr>\n      <th>34282</th>\n      <td>yAqHUwjnue4</td>\n      <td>18.12.05</td>\n      <td>Roma vs. Liverpool | 2017-18 UEFA Champions Le...</td>\n      <td>FOX Soccer</td>\n      <td>17</td>\n      <td>2018-05-02T21:58:41.000Z</td>\n      <td>uefa champions league|\"uefa\"|\"roma\"|\"as roma\"|...</td>\n      <td>571624</td>\n      <td>3628</td>\n      <td>201</td>\n      <td>1064</td>\n      <td>https://i.ytimg.com/vi/yAqHUwjnue4/default.jpg</td>\n      <td>False</td>\n      <td>False</td>\n      <td>False</td>\n      <td>Watch highlights between AS Roma and Liverpool...</td>\n    </tr>\n    <tr>\n      <th>22678</th>\n      <td>cIkEjFiUqwU</td>\n      <td>18.09.03</td>\n      <td>Reverend Billy Graham's Funeral | NBC News</td>\n      <td>NBC News</td>\n      <td>25</td>\n      <td>2018-03-02T20:24:58.000Z</td>\n      <td>nbc news|\"breaking news\"|\"us news\"|\"world news...</td>\n      <td>466160</td>\n      <td>5360</td>\n      <td>1164</td>\n      <td>0</td>\n      <td>https://i.ytimg.com/vi/cIkEjFiUqwU/default.jpg</td>\n      <td>True</td>\n      <td>False</td>\n      <td>False</td>\n      <td>Thousands gather for a funeral service at the ...</td>\n    </tr>\n    <tr>\n      <th>38343</th>\n      <td>Kc6CIwBVo5s</td>\n      <td>18.01.06</td>\n      <td>Hawaiian lava flows ‘faster than a turtle’</td>\n      <td>ABC News (Australia)</td>\n      <td>25</td>\n      <td>2018-05-07T22:34:57.000Z</td>\n      <td>Australia|\"Kilauea\"|\"Hawai'i\"|\"Hawaii\"|\"Leilan...</td>\n      <td>9913561</td>\n      <td>48648</td>\n      <td>3813</td>\n      <td>0</td>\n      <td>https://i.ytimg.com/vi/Kc6CIwBVo5s/default.jpg</td>\n      <td>True</td>\n      <td>False</td>\n      <td>False</td>\n      <td>Dozens of homes have been destroyed by Hawaii'...</td>\n    </tr>\n    <tr>\n      <th>15558</th>\n      <td>LIEOeqNRikk</td>\n      <td>18.01.02</td>\n      <td>American vs. Brit</td>\n      <td>Oscar Fury</td>\n      <td>20</td>\n      <td>2018-01-26T19:37:39.000Z</td>\n      <td>[none]</td>\n      <td>21199</td>\n      <td>151</td>\n      <td>12</td>\n      <td>10</td>\n      <td>https://i.ytimg.com/vi/LIEOeqNRikk/default.jpg</td>\n      <td>False</td>\n      <td>False</td>\n      <td>False</td>\n      <td>Google Home couldn't settle our relationship l...</td>\n    </tr>\n    <tr>\n      <th>17203</th>\n      <td>K3ZwxsTOD_8</td>\n      <td>18.10.02</td>\n      <td>Horton Hears a Who - Nostalgia Critic</td>\n      <td>Channel Awesome</td>\n      <td>24</td>\n      <td>2018-02-07T23:00:01.000Z</td>\n      <td>channel awesome|\"nostalgia critic\"|\"doug walke...</td>\n      <td>650581</td>\n      <td>23538</td>\n      <td>1002</td>\n      <td>4743</td>\n      <td>https://i.ytimg.com/vi/K3ZwxsTOD_8/default.jpg</td>\n      <td>False</td>\n      <td>False</td>\n      <td>False</td>\n      <td>The Dr. Seuss movies have been pretty bad, but...</td>\n    </tr>\n    <tr>\n      <th>5253</th>\n      <td>a9B4AgwYG4E</td>\n      <td>17.10.12</td>\n      <td>Idol EXPOSES Dark Side of KPOP | STORYTIME exp...</td>\n      <td>Henry Prince Mak</td>\n      <td>22</td>\n      <td>2017-12-09T16:28:01.000Z</td>\n      <td>kpop|\"kpop idols\"|\"kpop idol\"|\"jjcc\"|\"prince m...</td>\n      <td>35704</td>\n      <td>8147</td>\n      <td>43</td>\n      <td>560</td>\n      <td>https://i.ytimg.com/vi/a9B4AgwYG4E/default.jpg</td>\n      <td>False</td>\n      <td>False</td>\n      <td>False</td>\n      <td>Video on WHY I LEFT KPOP https://youtu.be/QRm1...</td>\n    </tr>\n    <tr>\n      <th>39275</th>\n      <td>9NC2saE5MbQ</td>\n      <td>18.06.06</td>\n      <td>Camels vs. Cactus!!!   جمل</td>\n      <td>camelsandfriends</td>\n      <td>15</td>\n      <td>2018-05-23T13:33:03.000Z</td>\n      <td>camels|\"cactus\"|\"pets\"|\"livestock\"|\"animals\"|\"...</td>\n      <td>5307153</td>\n      <td>29203</td>\n      <td>4274</td>\n      <td>14548</td>\n      <td>https://i.ytimg.com/vi/9NC2saE5MbQ/default.jpg</td>\n      <td>False</td>\n      <td>False</td>\n      <td>False</td>\n      <td>Dromedary camels tear through prickly pear cac...</td>\n    </tr>\n  </tbody>\n</table>\n</div>"
     },
     "metadata": {},
     "execution_count": 35
    }
   ],
   "source": [
    "samples = data.sample(n=10)\n",
    "samples\n",
    ""
   ]
  },
  {
   "cell_type": "markdown",
   "metadata": {},
   "source": [
    "Now we've seen the random 10 samples from the dataset.\n",
    "\n",
    "Let us select 5 attributes from these 10 samples. Two numerical and 3 categorical attributes.\n",
    "\n",
    "For two numerical attributes, let us select **views** and **likes** columns.\n",
    "For the three categorical attributes, let us select **comments_disabled**, **ratings_disabled** and **category_id**\n",
    "\n",
    "In these five attributes, **comments_disabled** and **ratings_disabled** are Nominal Data. **category_id** can be also considered as Nominal Data.\n",
    "While **views** and **likes** are Continuous Data.\n",
    "\n",
    "Let us treat **category_id** as the target attribute.\n"
   ]
  },
  {
   "cell_type": "code",
   "execution_count": 36,
   "metadata": {},
   "outputs": [
    {
     "output_type": "execute_result",
     "data": {
      "text/plain": "         views  likes  comments_disabled  ratings_disabled  category_id\n28095  2325254  91402              False             False           26\n13284  1060991  28364              False             False           24\n3627    629474  21298              False             False           26\n34282   571624   3628              False             False           17\n22678   466160   5360               True             False           25\n38343  9913561  48648               True             False           25\n15558    21199    151              False             False           20\n17203   650581  23538              False             False           24\n5253     35704   8147              False             False           22\n39275  5307153  29203              False             False           15",
      "text/html": "<div>\n<style scoped>\n    .dataframe tbody tr th:only-of-type {\n        vertical-align: middle;\n    }\n\n    .dataframe tbody tr th {\n        vertical-align: top;\n    }\n\n    .dataframe thead th {\n        text-align: right;\n    }\n</style>\n<table border=\"1\" class=\"dataframe\">\n  <thead>\n    <tr style=\"text-align: right;\">\n      <th></th>\n      <th>views</th>\n      <th>likes</th>\n      <th>comments_disabled</th>\n      <th>ratings_disabled</th>\n      <th>category_id</th>\n    </tr>\n  </thead>\n  <tbody>\n    <tr>\n      <th>28095</th>\n      <td>2325254</td>\n      <td>91402</td>\n      <td>False</td>\n      <td>False</td>\n      <td>26</td>\n    </tr>\n    <tr>\n      <th>13284</th>\n      <td>1060991</td>\n      <td>28364</td>\n      <td>False</td>\n      <td>False</td>\n      <td>24</td>\n    </tr>\n    <tr>\n      <th>3627</th>\n      <td>629474</td>\n      <td>21298</td>\n      <td>False</td>\n      <td>False</td>\n      <td>26</td>\n    </tr>\n    <tr>\n      <th>34282</th>\n      <td>571624</td>\n      <td>3628</td>\n      <td>False</td>\n      <td>False</td>\n      <td>17</td>\n    </tr>\n    <tr>\n      <th>22678</th>\n      <td>466160</td>\n      <td>5360</td>\n      <td>True</td>\n      <td>False</td>\n      <td>25</td>\n    </tr>\n    <tr>\n      <th>38343</th>\n      <td>9913561</td>\n      <td>48648</td>\n      <td>True</td>\n      <td>False</td>\n      <td>25</td>\n    </tr>\n    <tr>\n      <th>15558</th>\n      <td>21199</td>\n      <td>151</td>\n      <td>False</td>\n      <td>False</td>\n      <td>20</td>\n    </tr>\n    <tr>\n      <th>17203</th>\n      <td>650581</td>\n      <td>23538</td>\n      <td>False</td>\n      <td>False</td>\n      <td>24</td>\n    </tr>\n    <tr>\n      <th>5253</th>\n      <td>35704</td>\n      <td>8147</td>\n      <td>False</td>\n      <td>False</td>\n      <td>22</td>\n    </tr>\n    <tr>\n      <th>39275</th>\n      <td>5307153</td>\n      <td>29203</td>\n      <td>False</td>\n      <td>False</td>\n      <td>15</td>\n    </tr>\n  </tbody>\n</table>\n</div>"
     },
     "metadata": {},
     "execution_count": 36
    }
   ],
   "source": [
    "new_df = pd.DataFrame(samples, columns = ['views','likes','comments_disabled','ratings_disabled','category_id'])\n",
    "new_df"
   ]
  },
  {
   "cell_type": "markdown",
   "metadata": {},
   "source": [
    "We can see that our new table has no incomplete, noisy or inconsistent value.\n",
    "\n",
    "Let us take a look what are the categories that are being represented by category_id."
   ]
  },
  {
   "cell_type": "code",
   "execution_count": 37,
   "metadata": {},
   "outputs": [
    {
     "output_type": "stream",
     "name": "stdout",
     "text": "Total number of category: 32\n"
    },
    {
     "output_type": "execute_result",
     "data": {
      "text/plain": "{'1': 'Film & Animation',\n '2': 'Autos & Vehicles',\n '10': 'Music',\n '15': 'Pets & Animals',\n '17': 'Sports',\n '18': 'Short Movies',\n '19': 'Travel & Events',\n '20': 'Gaming',\n '21': 'Videoblogging',\n '22': 'People & Blogs',\n '23': 'Comedy',\n '24': 'Entertainment',\n '25': 'News & Politics',\n '26': 'Howto & Style',\n '27': 'Education',\n '28': 'Science & Technology',\n '29': 'Nonprofits & Activism',\n '30': 'Movies',\n '31': 'Anime/Animation',\n '32': 'Action/Adventure',\n '33': 'Classics',\n '34': 'Comedy',\n '35': 'Documentary',\n '36': 'Drama',\n '37': 'Family',\n '38': 'Foreign',\n '39': 'Horror',\n '40': 'Sci-Fi/Fantasy',\n '41': 'Thriller',\n '42': 'Shorts',\n '43': 'Shows',\n '44': 'Trailers'}"
     },
     "metadata": {},
     "execution_count": 37
    }
   ],
   "source": [
    "with open('Data/US_category_id.json') as f:\n",
    "    data = json.load(f)\n",
    "  \n",
    "    categories = {}\n",
    "    for item in data['items']:\n",
    "        categories[item['id']] = item['snippet']['title']\n",
    "print(\"Total number of category: {0}\".format(len(categories)))\n",
    "categories"
   ]
  },
  {
   "cell_type": "markdown",
   "metadata": {},
   "source": [
    "Now let us compute the Pearson Correlation Coefficient for the two numerical attributes, views and likes.\n",
    "\n",
    "First let us create a temporary dataframe for views and likes attributes."
   ]
  },
  {
   "cell_type": "code",
   "execution_count": 38,
   "metadata": {},
   "outputs": [],
   "source": [
    "num_attrib = pd.DataFrame(new_df, columns = ['views', 'likes'])"
   ]
  },
  {
   "cell_type": "markdown",
   "metadata": {},
   "source": [
    "\n",
    "Now, we can calculate the Pearson Correlation Coefficient using Pandas function:  dataframe.corr(method='pearson')"
   ]
  },
  {
   "cell_type": "code",
   "execution_count": 39,
   "metadata": {},
   "outputs": [
    {
     "output_type": "execute_result",
     "data": {
      "text/plain": "          views     likes\nviews  1.000000  0.472023\nlikes  0.472023  1.000000",
      "text/html": "<div>\n<style scoped>\n    .dataframe tbody tr th:only-of-type {\n        vertical-align: middle;\n    }\n\n    .dataframe tbody tr th {\n        vertical-align: top;\n    }\n\n    .dataframe thead th {\n        text-align: right;\n    }\n</style>\n<table border=\"1\" class=\"dataframe\">\n  <thead>\n    <tr style=\"text-align: right;\">\n      <th></th>\n      <th>views</th>\n      <th>likes</th>\n    </tr>\n  </thead>\n  <tbody>\n    <tr>\n      <th>views</th>\n      <td>1.000000</td>\n      <td>0.472023</td>\n    </tr>\n    <tr>\n      <th>likes</th>\n      <td>0.472023</td>\n      <td>1.000000</td>\n    </tr>\n  </tbody>\n</table>\n</div>"
     },
     "metadata": {},
     "execution_count": 39
    }
   ],
   "source": [
    "num_attrib.corr(method = 'pearson')"
   ]
  },
  {
   "cell_type": "markdown",
   "metadata": {},
   "source": [
    "Looking at the calculation result, we can say that since we've got a positive values, views and likes attributes are positively correlated to each other. "
   ]
  },
  {
   "cell_type": "markdown",
   "metadata": {},
   "source": [
    "Now let us move on by calculating the Chi-Square Value for the two categorical evaluated attributes, comments_disabled and ratings_disabled.\n",
    "\n",
    "First let us create a crosstab of the two attributes."
   ]
  },
  {
   "cell_type": "code",
   "execution_count": 40,
   "metadata": {},
   "outputs": [
    {
     "output_type": "execute_result",
     "data": {
      "text/plain": "ratings_disabled   False\ncomments_disabled       \nFalse                  8\nTrue                   2",
      "text/html": "<div>\n<style scoped>\n    .dataframe tbody tr th:only-of-type {\n        vertical-align: middle;\n    }\n\n    .dataframe tbody tr th {\n        vertical-align: top;\n    }\n\n    .dataframe thead th {\n        text-align: right;\n    }\n</style>\n<table border=\"1\" class=\"dataframe\">\n  <thead>\n    <tr style=\"text-align: right;\">\n      <th>ratings_disabled</th>\n      <th>False</th>\n    </tr>\n    <tr>\n      <th>comments_disabled</th>\n      <th></th>\n    </tr>\n  </thead>\n  <tbody>\n    <tr>\n      <th>False</th>\n      <td>8</td>\n    </tr>\n    <tr>\n      <th>True</th>\n      <td>2</td>\n    </tr>\n  </tbody>\n</table>\n</div>"
     },
     "metadata": {},
     "execution_count": 40
    }
   ],
   "source": [
    "crosstab = pd.crosstab(new_df['comments_disabled'],new_df['ratings_disabled'])\n",
    "crosstab"
   ]
  },
  {
   "cell_type": "markdown",
   "metadata": {},
   "source": [
    "Now, using the crosstab we can calculate the chi-square value usinf scipy's stats.chi2_contingency(crosstab) function"
   ]
  },
  {
   "cell_type": "code",
   "execution_count": 41,
   "metadata": {},
   "outputs": [
    {
     "output_type": "execute_result",
     "data": {
      "text/plain": "0.0"
     },
     "metadata": {},
     "execution_count": 41
    }
   ],
   "source": [
    "chi2,p_value,dof,freqs = stats.chi2_contingency(crosstab)\n",
    "chi2"
   ]
  },
  {
   "cell_type": "markdown",
   "metadata": {},
   "source": [
    "chi2 tells the discrepancies between the expected and the actual result.\n",
    "\n",
    "Since we've got 0 or pretty low result, it means that there are no or low correlation between these two categories \n",
    "\n",
    "\n"
   ]
  },
  {
   "cell_type": "markdown",
   "metadata": {},
   "source": [
    "Now let us normalize the numerical attributes to new value range 0,1 using min-max normalization. "
   ]
  },
  {
   "cell_type": "code",
   "execution_count": 42,
   "metadata": {},
   "outputs": [
    {
     "output_type": "execute_result",
     "data": {
      "text/plain": "          views     likes  comments_disabled  ratings_disabled  category_id\n28095  0.232913  1.000000              False             False           26\n13284  0.105111  0.309180              False             False           24\n3627   0.061489  0.231745              False             False           26\n34282  0.055641  0.038104              False             False           17\n22678  0.044980  0.057084               True             False           25\n38343  1.000000  0.531468               True             False           25\n15558  0.000000  0.000000              False             False           20\n17203  0.063623  0.256293              False             False           24\n5253   0.001466  0.087626              False             False           22\n39275  0.534347  0.318375              False             False           15",
      "text/html": "<div>\n<style scoped>\n    .dataframe tbody tr th:only-of-type {\n        vertical-align: middle;\n    }\n\n    .dataframe tbody tr th {\n        vertical-align: top;\n    }\n\n    .dataframe thead th {\n        text-align: right;\n    }\n</style>\n<table border=\"1\" class=\"dataframe\">\n  <thead>\n    <tr style=\"text-align: right;\">\n      <th></th>\n      <th>views</th>\n      <th>likes</th>\n      <th>comments_disabled</th>\n      <th>ratings_disabled</th>\n      <th>category_id</th>\n    </tr>\n  </thead>\n  <tbody>\n    <tr>\n      <th>28095</th>\n      <td>0.232913</td>\n      <td>1.000000</td>\n      <td>False</td>\n      <td>False</td>\n      <td>26</td>\n    </tr>\n    <tr>\n      <th>13284</th>\n      <td>0.105111</td>\n      <td>0.309180</td>\n      <td>False</td>\n      <td>False</td>\n      <td>24</td>\n    </tr>\n    <tr>\n      <th>3627</th>\n      <td>0.061489</td>\n      <td>0.231745</td>\n      <td>False</td>\n      <td>False</td>\n      <td>26</td>\n    </tr>\n    <tr>\n      <th>34282</th>\n      <td>0.055641</td>\n      <td>0.038104</td>\n      <td>False</td>\n      <td>False</td>\n      <td>17</td>\n    </tr>\n    <tr>\n      <th>22678</th>\n      <td>0.044980</td>\n      <td>0.057084</td>\n      <td>True</td>\n      <td>False</td>\n      <td>25</td>\n    </tr>\n    <tr>\n      <th>38343</th>\n      <td>1.000000</td>\n      <td>0.531468</td>\n      <td>True</td>\n      <td>False</td>\n      <td>25</td>\n    </tr>\n    <tr>\n      <th>15558</th>\n      <td>0.000000</td>\n      <td>0.000000</td>\n      <td>False</td>\n      <td>False</td>\n      <td>20</td>\n    </tr>\n    <tr>\n      <th>17203</th>\n      <td>0.063623</td>\n      <td>0.256293</td>\n      <td>False</td>\n      <td>False</td>\n      <td>24</td>\n    </tr>\n    <tr>\n      <th>5253</th>\n      <td>0.001466</td>\n      <td>0.087626</td>\n      <td>False</td>\n      <td>False</td>\n      <td>22</td>\n    </tr>\n    <tr>\n      <th>39275</th>\n      <td>0.534347</td>\n      <td>0.318375</td>\n      <td>False</td>\n      <td>False</td>\n      <td>15</td>\n    </tr>\n  </tbody>\n</table>\n</div>"
     },
     "metadata": {},
     "execution_count": 42
    }
   ],
   "source": [
    "def normalize(col):\n",
    "    min = np.min(col)\n",
    "    max = np.max(col)\n",
    "    range = max - min\n",
    "\n",
    "    return [(item - min) / range for item in col]\n",
    "new_df['views'], new_df['likes'] = normalize(new_df['views']), normalize(new_df['likes'])\n",
    "new_df\n",
    ""
   ]
  },
  {
   "cell_type": "markdown",
   "metadata": {},
   "source": [
    "Now let us let us apply Equal-Width Binning to partition our numerical attributes into Low, Medium and High. "
   ]
  },
  {
   "cell_type": "code",
   "execution_count": 43,
   "metadata": {},
   "outputs": [
    {
     "output_type": "execute_result",
     "data": {
      "text/plain": "        views   likes  comments_disabled  ratings_disabled  category_id\n28095     Low    High              False             False           26\n13284     Low     Low              False             False           24\n3627      Low     Low              False             False           26\n34282     Low     Low              False             False           17\n22678     Low     Low               True             False           25\n38343    High  Medium               True             False           25\n15558     Low     Low              False             False           20\n17203     Low     Low              False             False           24\n5253      Low     Low              False             False           22\n39275  Medium     Low              False             False           15",
      "text/html": "<div>\n<style scoped>\n    .dataframe tbody tr th:only-of-type {\n        vertical-align: middle;\n    }\n\n    .dataframe tbody tr th {\n        vertical-align: top;\n    }\n\n    .dataframe thead th {\n        text-align: right;\n    }\n</style>\n<table border=\"1\" class=\"dataframe\">\n  <thead>\n    <tr style=\"text-align: right;\">\n      <th></th>\n      <th>views</th>\n      <th>likes</th>\n      <th>comments_disabled</th>\n      <th>ratings_disabled</th>\n      <th>category_id</th>\n    </tr>\n  </thead>\n  <tbody>\n    <tr>\n      <th>28095</th>\n      <td>Low</td>\n      <td>High</td>\n      <td>False</td>\n      <td>False</td>\n      <td>26</td>\n    </tr>\n    <tr>\n      <th>13284</th>\n      <td>Low</td>\n      <td>Low</td>\n      <td>False</td>\n      <td>False</td>\n      <td>24</td>\n    </tr>\n    <tr>\n      <th>3627</th>\n      <td>Low</td>\n      <td>Low</td>\n      <td>False</td>\n      <td>False</td>\n      <td>26</td>\n    </tr>\n    <tr>\n      <th>34282</th>\n      <td>Low</td>\n      <td>Low</td>\n      <td>False</td>\n      <td>False</td>\n      <td>17</td>\n    </tr>\n    <tr>\n      <th>22678</th>\n      <td>Low</td>\n      <td>Low</td>\n      <td>True</td>\n      <td>False</td>\n      <td>25</td>\n    </tr>\n    <tr>\n      <th>38343</th>\n      <td>High</td>\n      <td>Medium</td>\n      <td>True</td>\n      <td>False</td>\n      <td>25</td>\n    </tr>\n    <tr>\n      <th>15558</th>\n      <td>Low</td>\n      <td>Low</td>\n      <td>False</td>\n      <td>False</td>\n      <td>20</td>\n    </tr>\n    <tr>\n      <th>17203</th>\n      <td>Low</td>\n      <td>Low</td>\n      <td>False</td>\n      <td>False</td>\n      <td>24</td>\n    </tr>\n    <tr>\n      <th>5253</th>\n      <td>Low</td>\n      <td>Low</td>\n      <td>False</td>\n      <td>False</td>\n      <td>22</td>\n    </tr>\n    <tr>\n      <th>39275</th>\n      <td>Medium</td>\n      <td>Low</td>\n      <td>False</td>\n      <td>False</td>\n      <td>15</td>\n    </tr>\n  </tbody>\n</table>\n</div>"
     },
     "metadata": {},
     "execution_count": 43
    }
   ],
   "source": [
    "new_df['views'], new_df['likes']  = pd.cut(new_df['views'],3, labels=[\"Low\",\"Medium\",\"High\"]),  pd.cut(new_df['likes'],3, labels=[\"Low\",\"Medium\",\"High\"])\n",
    "new_df"
   ]
  },
  {
   "cell_type": "markdown",
   "metadata": {},
   "source": [
    "For the last part, let us calculate the Information Gains of Likes and Views. We will disregard the other two evaluated attributes because they have the same values. \n",
    "\n",
    "First let us calculate the entropy for category_id"
   ]
  },
  {
   "cell_type": "code",
   "execution_count": 44,
   "metadata": {},
   "outputs": [
    {
     "output_type": "execute_result",
     "data": {
      "text/plain": "2.7219280948873625"
     },
     "metadata": {},
     "execution_count": 44
    }
   ],
   "source": [
    "pd_target_attr_category_id = Counter(new_df['category_id'])\n",
    "p = []\n",
    "for key,val in pd_target_attr_category_id.items():\n",
    "    p.append(val/10)\n",
    "\n",
    "entropy_target_attr_category_id = entropy(p,base=2)\n",
    "entropy_target_attr_category_id"
   ]
  },
  {
   "cell_type": "markdown",
   "metadata": {},
   "source": [
    "Now let us get the entropies of level of views vs category_id.\n",
    "\n",
    "\n",
    "First let us create a cross tab of the two attributes and visualize how many and which categories falls in the 3 levels of views (Low, Medium, High)."
   ]
  },
  {
   "cell_type": "code",
   "execution_count": 45,
   "metadata": {},
   "outputs": [
    {
     "output_type": "execute_result",
     "data": {
      "text/plain": "category_id  15  17  20  22  24  25  26\nviews                                  \nLow           0   1   1   1   2   1   2\nMedium        1   0   0   0   0   0   0\nHigh          0   0   0   0   0   1   0",
      "text/html": "<div>\n<style scoped>\n    .dataframe tbody tr th:only-of-type {\n        vertical-align: middle;\n    }\n\n    .dataframe tbody tr th {\n        vertical-align: top;\n    }\n\n    .dataframe thead th {\n        text-align: right;\n    }\n</style>\n<table border=\"1\" class=\"dataframe\">\n  <thead>\n    <tr style=\"text-align: right;\">\n      <th>category_id</th>\n      <th>15</th>\n      <th>17</th>\n      <th>20</th>\n      <th>22</th>\n      <th>24</th>\n      <th>25</th>\n      <th>26</th>\n    </tr>\n    <tr>\n      <th>views</th>\n      <th></th>\n      <th></th>\n      <th></th>\n      <th></th>\n      <th></th>\n      <th></th>\n      <th></th>\n    </tr>\n  </thead>\n  <tbody>\n    <tr>\n      <th>Low</th>\n      <td>0</td>\n      <td>1</td>\n      <td>1</td>\n      <td>1</td>\n      <td>2</td>\n      <td>1</td>\n      <td>2</td>\n    </tr>\n    <tr>\n      <th>Medium</th>\n      <td>1</td>\n      <td>0</td>\n      <td>0</td>\n      <td>0</td>\n      <td>0</td>\n      <td>0</td>\n      <td>0</td>\n    </tr>\n    <tr>\n      <th>High</th>\n      <td>0</td>\n      <td>0</td>\n      <td>0</td>\n      <td>0</td>\n      <td>0</td>\n      <td>1</td>\n      <td>0</td>\n    </tr>\n  </tbody>\n</table>\n</div>"
     },
     "metadata": {},
     "execution_count": 45
    }
   ],
   "source": [
    "ct = pd.crosstab(new_df['views'],new_df['category_id'])\n",
    "ct"
   ]
  },
  {
   "cell_type": "markdown",
   "metadata": {},
   "source": [
    "Now let us get the entropies of categories for each view level"
   ]
  },
  {
   "cell_type": "code",
   "execution_count": 46,
   "metadata": {},
   "outputs": [
    {
     "output_type": "execute_result",
     "data": {
      "text/plain": "[2.5, 0.0, 0.0]"
     },
     "metadata": {},
     "execution_count": 46
    }
   ],
   "source": [
    "num_view_labels = max(ct.count())\n",
    "view_level_Pds = []\n",
    "for view_label in range(num_view_labels):\n",
    "    temp = []\n",
    "    for label,content in ct.iteritems():\n",
    "        temp.append(content[view_label]/len(pd_target_attr_category_id))\n",
    "    view_level_Pds.append(temp)\n",
    "entropy_category_vs_views = []\n",
    "for arr in view_level_Pds:\n",
    "    entropy_category_vs_views.append(entropy(arr,base=2))\n",
    "entropy_category_vs_views"
   ]
  },
  {
   "cell_type": "code",
   "execution_count": 47,
   "metadata": {},
   "outputs": [
    {
     "output_type": "stream",
     "name": "stdout",
     "text": "Views vs category information gain is:\n"
    },
    {
     "output_type": "execute_result",
     "data": {
      "text/plain": "0.7219280948873625"
     },
     "metadata": {},
     "execution_count": 47
    }
   ],
   "source": [
    "view_levels = Counter(new_df['views'])\n",
    "\n",
    "sum_views_entropy  = 0\n",
    "idx = 0\n",
    "for key,val in view_levels.items():\n",
    "    sum_views_entropy = sum_views_entropy+(val/10)*entropy_category_vs_views[idx]\n",
    "    idx = idx+1\n",
    "information_gain = entropy_target_attr_category_id-sum_views_entropy\n",
    "print(\"Views vs category information gain is:\")\n",
    "information_gain"
   ]
  },
  {
   "cell_type": "markdown",
   "metadata": {},
   "source": [
    "Now, let us do the same for the likes attribure."
   ]
  },
  {
   "cell_type": "code",
   "execution_count": 48,
   "metadata": {},
   "outputs": [
    {
     "output_type": "stream",
     "name": "stdout",
     "text": "Likes vs category information gain is:\n"
    },
    {
     "output_type": "execute_result",
     "data": {
      "text/plain": "-0.028071905112637463"
     },
     "metadata": {},
     "execution_count": 48
    }
   ],
   "source": [
    "ct2 = pd.crosstab(new_df['likes'],new_df['category_id'])\n",
    "\n",
    "num_likes_labels = max(ct2.count())\n",
    "likes_level_Pds = []\n",
    "for likes_label in range(num_likes_labels):\n",
    "    temp = []\n",
    "    for label,content in ct2.iteritems():\n",
    "        temp.append(content[likes_label]/len(pd_target_attr_category_id))\n",
    "    likes_level_Pds.append(temp)\n",
    "entropy_category_vs_likes = []\n",
    "for arr in likes_level_Pds:\n",
    "    entropy_category_vs_likes.append(entropy(arr,base=2))\n",
    "\n",
    "likes_levels = Counter(new_df['likes'])\n",
    "sum_likes_entropy  = 0\n",
    "idx = 0\n",
    "for key,val in likes_levels.items():\n",
    "    sum_likes_entropy = sum_likes_entropy+(val/10)*entropy_category_vs_likes[idx]\n",
    "information_gain = entropy_target_attr_category_id-sum_likes_entropy\n",
    "print(\"Likes vs category information gain is:\")\n",
    "information_gain"
   ]
  },
  {
   "cell_type": "markdown",
   "metadata": {},
   "source": [
    "Now we can say that the views attribute is more important than likes because it has larger information gain. "
   ]
  }
 ]
}