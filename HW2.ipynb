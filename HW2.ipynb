{
 "nbformat": 4,
 "nbformat_minor": 2,
 "metadata": {
  "language_info": {
   "name": "python",
   "codemirror_mode": {
    "name": "ipython",
    "version": 3
   },
   "version": "3.6.10-final"
  },
  "orig_nbformat": 2,
  "file_extension": ".py",
  "mimetype": "text/x-python",
  "name": "python",
  "npconvert_exporter": "python",
  "pygments_lexer": "ipython3",
  "version": 3,
  "kernelspec": {
   "name": "python361064bita3c2bb6626c0429181b5e1f1696712f0",
   "display_name": "Python 3.6.10 64-bit"
  }
 },
 "cells": [
  {
   "cell_type": "markdown",
   "metadata": {},
   "source": [
    "# 108-2 Data Mining\n",
    "## Homework #2 : Data Preprocessing\n",
    "## Instructor: Hsueh-Chan Lu\n",
    "## Submitted by: Carlo D. Pastoral\n",
    "## Student ID: N26087048\n"
   ]
  },
  {
   "cell_type": "markdown",
   "metadata": {},
   "source": [
    "In this homework, I am going to use **pandas**, **numpy** and **scipy** libraries for **data preprocessing**.\n",
    "\n",
    "In this preprocessing, I will be using a collection of data from top trending youtube videos that are being watched in the region of US.  \n",
    "\n",
    "This dataset was downloaded from kaggle (https://www.kaggle.com/datasnaek/youtube-new)"
   ]
  },
  {
   "cell_type": "code",
   "execution_count": 21,
   "metadata": {},
   "outputs": [],
   "source": [
    "import pandas as pd \n",
    "import numpy as np\n",
    "import json\n",
    "import pprint\n",
    "from scipy import stats\n",
    "from collections import  Counter\n",
    "from scipy.stats import entropy"
   ]
  },
  {
   "cell_type": "markdown",
   "metadata": {},
   "source": [
    "First, let us open the dataset using pandas. "
   ]
  },
  {
   "cell_type": "code",
   "execution_count": 22,
   "metadata": {},
   "outputs": [],
   "source": [
    "data = pd.read_csv('Data/USvideos.csv')"
   ]
  },
  {
   "cell_type": "markdown",
   "metadata": {},
   "source": [
    "Let us get 10 random and unchange sample and print it"
   ]
  },
  {
   "cell_type": "code",
   "execution_count": 23,
   "metadata": {},
   "outputs": [
    {
     "output_type": "execute_result",
     "data": {
      "text/plain": "          video_id trending_date  \\\n40726  oLDbO545aKQ      18.13.06   \n23411  _yiQHtBFYkg      18.13.03   \n26120  Txlk7PiHaGk      18.26.03   \n15547  VFnXRntc9XA      18.01.02   \n11713  sP6Z94dDPEw      18.13.01   \n1588   -oXybog2IuI      17.21.11   \n34612  zxwfDlhJIpw      18.14.05   \n19441  xYtsL9znopI      18.21.02   \n4190   NKin_i1pcFA      17.04.12   \n29978  kSuaykdvl4I      18.21.04   \n\n                                                   title       channel_title  \\\n40726  Terrible Magicians | Rudy Mancuso & Juanpa Zurita        Rudy Mancuso   \n23411  Kylie Minogue - Stop Me From Falling (Official...       Kylie Minogue   \n26120                       Imagine Dragons - Next To Me  ImagineDragonsVEVO   \n15547                   Jack White - Corporation (Audio)       JackWhiteVEVO   \n11713  Maze Runner: The Death Cure | Any Ideas Clip |...    20th Century Fox   \n1588   24 Facts about Koalas - mental_floss List Show...        Mental Floss   \n34612                 kanye west / charlamagne interview          Kanye West   \n19441      Khalid & Normani - Love Lies (Official Video)          KhalidVEVO   \n4190   The Spyker C8 Is the Quirkiest $250,000 Exotic...         Doug DeMuro   \n29978  Making the Hulkbuster Part 1-Legs, Huge Hydrau...          colinfurze   \n\n       category_id              publish_time  \\\n40726           10  2018-05-21T21:00:33.000Z   \n23411           10  2018-03-09T08:32:56.000Z   \n26120           10  2018-03-13T18:00:05.000Z   \n15547           10  2018-01-26T05:01:00.000Z   \n11713            1  2018-01-10T13:59:47.000Z   \n1588            27  2017-11-15T16:00:00.000Z   \n34612           22  2018-05-01T15:57:06.000Z   \n19441           10  2018-02-16T14:00:09.000Z   \n4190             2  2017-11-27T17:00:48.000Z   \n29978           24  2018-04-19T15:00:07.000Z   \n\n                                                    tags    views   likes  \\\n40726  terrible magicians|\"rudy\"|\"mancuso\"|\"juanpa\"|\"...  3805747  196261   \n23411                                             [none]   305471    8425   \n26120  Imagine|\"Dragons\"|\"Next\"|\"To\"|\"Me\"|\"Kid\"|\"Ina\"...  7878506  348191   \n15547  Alternative|\"Corporation\"|\"Jack White\"|\"Third ...   263914    7604   \n11713  Trailer|\"Maze Runner\"|\"Dylan O'Brien\"|\"dylan o...   887367    6095   \n1588   john green|\"mental floss\"|\"koalas\"|\"marsupial\"...    38775    1373   \n34612  Kanye West|\"YEEZY\"|\"Kanye\"|\"Charlamagne\"|\"The ...  8241193  164604   \n19441  Khalid & Normani|\"Love Lies\"|\"R&B\"|\"RCA Record...  3589995  196931   \n4190   spyker c8|\"spyker\"|\"spyker c8 spyder\"|\"c8 spyd...  1457307   29851   \n29978  colin|\"furze\"|\"colinfurze\"|\"ebay\"|\"hulkbuster\"...  1002018   54157   \n\n       dislikes  comment_count  \\\n40726      4502          11187   \n23411       525           1252   \n26120      8747          22717   \n15547       374            961   \n11713        34            703   \n1588         16            140   \n34612     19238          47969   \n19441      3717          10823   \n4190       1032           7918   \n29978       516           3481   \n\n                                       thumbnail_link  comments_disabled  \\\n40726  https://i.ytimg.com/vi/oLDbO545aKQ/default.jpg              False   \n23411  https://i.ytimg.com/vi/_yiQHtBFYkg/default.jpg              False   \n26120  https://i.ytimg.com/vi/Txlk7PiHaGk/default.jpg              False   \n15547  https://i.ytimg.com/vi/VFnXRntc9XA/default.jpg              False   \n11713  https://i.ytimg.com/vi/sP6Z94dDPEw/default.jpg              False   \n1588   https://i.ytimg.com/vi/-oXybog2IuI/default.jpg              False   \n34612  https://i.ytimg.com/vi/zxwfDlhJIpw/default.jpg              False   \n19441  https://i.ytimg.com/vi/xYtsL9znopI/default.jpg              False   \n4190   https://i.ytimg.com/vi/NKin_i1pcFA/default.jpg              False   \n29978  https://i.ytimg.com/vi/kSuaykdvl4I/default.jpg              False   \n\n       ratings_disabled  video_error_or_removed  \\\n40726             False                   False   \n23411             False                   False   \n26120             False                   False   \n15547             False                   False   \n11713             False                   False   \n1588              False                   False   \n34612             False                   False   \n19441             False                   False   \n4190              False                   False   \n29978             False                   False   \n\n                                             description  \n40726  WATCH MORE ▶ https://youtu.be/Q9_WGkd_svIWATCH...  \n23411  The official audio for Stop Me From Falling by...  \n26120  Listen to Next To Me, out now: http://smarturl...  \n15547  “Corporation” by Jack White from the forthcomi...  \n11713  In the epic finale to the Maze Runner saga, Th...  \n1588   A weekly show where knowledge junkies get thei...  \n34612                                                NaN  \n19441  “Love Lies” by Khalid & Normani from the Origi...  \n4190   GO READ MY COLUMN! https://www.autotrader.com/...  \n29978  Building the Hulkbuster suit is a near impossi...  ",
      "text/html": "<div>\n<style scoped>\n    .dataframe tbody tr th:only-of-type {\n        vertical-align: middle;\n    }\n\n    .dataframe tbody tr th {\n        vertical-align: top;\n    }\n\n    .dataframe thead th {\n        text-align: right;\n    }\n</style>\n<table border=\"1\" class=\"dataframe\">\n  <thead>\n    <tr style=\"text-align: right;\">\n      <th></th>\n      <th>video_id</th>\n      <th>trending_date</th>\n      <th>title</th>\n      <th>channel_title</th>\n      <th>category_id</th>\n      <th>publish_time</th>\n      <th>tags</th>\n      <th>views</th>\n      <th>likes</th>\n      <th>dislikes</th>\n      <th>comment_count</th>\n      <th>thumbnail_link</th>\n      <th>comments_disabled</th>\n      <th>ratings_disabled</th>\n      <th>video_error_or_removed</th>\n      <th>description</th>\n    </tr>\n  </thead>\n  <tbody>\n    <tr>\n      <th>40726</th>\n      <td>oLDbO545aKQ</td>\n      <td>18.13.06</td>\n      <td>Terrible Magicians | Rudy Mancuso &amp; Juanpa Zurita</td>\n      <td>Rudy Mancuso</td>\n      <td>10</td>\n      <td>2018-05-21T21:00:33.000Z</td>\n      <td>terrible magicians|\"rudy\"|\"mancuso\"|\"juanpa\"|\"...</td>\n      <td>3805747</td>\n      <td>196261</td>\n      <td>4502</td>\n      <td>11187</td>\n      <td>https://i.ytimg.com/vi/oLDbO545aKQ/default.jpg</td>\n      <td>False</td>\n      <td>False</td>\n      <td>False</td>\n      <td>WATCH MORE ▶ https://youtu.be/Q9_WGkd_svIWATCH...</td>\n    </tr>\n    <tr>\n      <th>23411</th>\n      <td>_yiQHtBFYkg</td>\n      <td>18.13.03</td>\n      <td>Kylie Minogue - Stop Me From Falling (Official...</td>\n      <td>Kylie Minogue</td>\n      <td>10</td>\n      <td>2018-03-09T08:32:56.000Z</td>\n      <td>[none]</td>\n      <td>305471</td>\n      <td>8425</td>\n      <td>525</td>\n      <td>1252</td>\n      <td>https://i.ytimg.com/vi/_yiQHtBFYkg/default.jpg</td>\n      <td>False</td>\n      <td>False</td>\n      <td>False</td>\n      <td>The official audio for Stop Me From Falling by...</td>\n    </tr>\n    <tr>\n      <th>26120</th>\n      <td>Txlk7PiHaGk</td>\n      <td>18.26.03</td>\n      <td>Imagine Dragons - Next To Me</td>\n      <td>ImagineDragonsVEVO</td>\n      <td>10</td>\n      <td>2018-03-13T18:00:05.000Z</td>\n      <td>Imagine|\"Dragons\"|\"Next\"|\"To\"|\"Me\"|\"Kid\"|\"Ina\"...</td>\n      <td>7878506</td>\n      <td>348191</td>\n      <td>8747</td>\n      <td>22717</td>\n      <td>https://i.ytimg.com/vi/Txlk7PiHaGk/default.jpg</td>\n      <td>False</td>\n      <td>False</td>\n      <td>False</td>\n      <td>Listen to Next To Me, out now: http://smarturl...</td>\n    </tr>\n    <tr>\n      <th>15547</th>\n      <td>VFnXRntc9XA</td>\n      <td>18.01.02</td>\n      <td>Jack White - Corporation (Audio)</td>\n      <td>JackWhiteVEVO</td>\n      <td>10</td>\n      <td>2018-01-26T05:01:00.000Z</td>\n      <td>Alternative|\"Corporation\"|\"Jack White\"|\"Third ...</td>\n      <td>263914</td>\n      <td>7604</td>\n      <td>374</td>\n      <td>961</td>\n      <td>https://i.ytimg.com/vi/VFnXRntc9XA/default.jpg</td>\n      <td>False</td>\n      <td>False</td>\n      <td>False</td>\n      <td>“Corporation” by Jack White from the forthcomi...</td>\n    </tr>\n    <tr>\n      <th>11713</th>\n      <td>sP6Z94dDPEw</td>\n      <td>18.13.01</td>\n      <td>Maze Runner: The Death Cure | Any Ideas Clip |...</td>\n      <td>20th Century Fox</td>\n      <td>1</td>\n      <td>2018-01-10T13:59:47.000Z</td>\n      <td>Trailer|\"Maze Runner\"|\"Dylan O'Brien\"|\"dylan o...</td>\n      <td>887367</td>\n      <td>6095</td>\n      <td>34</td>\n      <td>703</td>\n      <td>https://i.ytimg.com/vi/sP6Z94dDPEw/default.jpg</td>\n      <td>False</td>\n      <td>False</td>\n      <td>False</td>\n      <td>In the epic finale to the Maze Runner saga, Th...</td>\n    </tr>\n    <tr>\n      <th>1588</th>\n      <td>-oXybog2IuI</td>\n      <td>17.21.11</td>\n      <td>24 Facts about Koalas - mental_floss List Show...</td>\n      <td>Mental Floss</td>\n      <td>27</td>\n      <td>2017-11-15T16:00:00.000Z</td>\n      <td>john green|\"mental floss\"|\"koalas\"|\"marsupial\"...</td>\n      <td>38775</td>\n      <td>1373</td>\n      <td>16</td>\n      <td>140</td>\n      <td>https://i.ytimg.com/vi/-oXybog2IuI/default.jpg</td>\n      <td>False</td>\n      <td>False</td>\n      <td>False</td>\n      <td>A weekly show where knowledge junkies get thei...</td>\n    </tr>\n    <tr>\n      <th>34612</th>\n      <td>zxwfDlhJIpw</td>\n      <td>18.14.05</td>\n      <td>kanye west / charlamagne interview</td>\n      <td>Kanye West</td>\n      <td>22</td>\n      <td>2018-05-01T15:57:06.000Z</td>\n      <td>Kanye West|\"YEEZY\"|\"Kanye\"|\"Charlamagne\"|\"The ...</td>\n      <td>8241193</td>\n      <td>164604</td>\n      <td>19238</td>\n      <td>47969</td>\n      <td>https://i.ytimg.com/vi/zxwfDlhJIpw/default.jpg</td>\n      <td>False</td>\n      <td>False</td>\n      <td>False</td>\n      <td>NaN</td>\n    </tr>\n    <tr>\n      <th>19441</th>\n      <td>xYtsL9znopI</td>\n      <td>18.21.02</td>\n      <td>Khalid &amp; Normani - Love Lies (Official Video)</td>\n      <td>KhalidVEVO</td>\n      <td>10</td>\n      <td>2018-02-16T14:00:09.000Z</td>\n      <td>Khalid &amp; Normani|\"Love Lies\"|\"R&amp;B\"|\"RCA Record...</td>\n      <td>3589995</td>\n      <td>196931</td>\n      <td>3717</td>\n      <td>10823</td>\n      <td>https://i.ytimg.com/vi/xYtsL9znopI/default.jpg</td>\n      <td>False</td>\n      <td>False</td>\n      <td>False</td>\n      <td>“Love Lies” by Khalid &amp; Normani from the Origi...</td>\n    </tr>\n    <tr>\n      <th>4190</th>\n      <td>NKin_i1pcFA</td>\n      <td>17.04.12</td>\n      <td>The Spyker C8 Is the Quirkiest $250,000 Exotic...</td>\n      <td>Doug DeMuro</td>\n      <td>2</td>\n      <td>2017-11-27T17:00:48.000Z</td>\n      <td>spyker c8|\"spyker\"|\"spyker c8 spyder\"|\"c8 spyd...</td>\n      <td>1457307</td>\n      <td>29851</td>\n      <td>1032</td>\n      <td>7918</td>\n      <td>https://i.ytimg.com/vi/NKin_i1pcFA/default.jpg</td>\n      <td>False</td>\n      <td>False</td>\n      <td>False</td>\n      <td>GO READ MY COLUMN! https://www.autotrader.com/...</td>\n    </tr>\n    <tr>\n      <th>29978</th>\n      <td>kSuaykdvl4I</td>\n      <td>18.21.04</td>\n      <td>Making the Hulkbuster Part 1-Legs, Huge Hydrau...</td>\n      <td>colinfurze</td>\n      <td>24</td>\n      <td>2018-04-19T15:00:07.000Z</td>\n      <td>colin|\"furze\"|\"colinfurze\"|\"ebay\"|\"hulkbuster\"...</td>\n      <td>1002018</td>\n      <td>54157</td>\n      <td>516</td>\n      <td>3481</td>\n      <td>https://i.ytimg.com/vi/kSuaykdvl4I/default.jpg</td>\n      <td>False</td>\n      <td>False</td>\n      <td>False</td>\n      <td>Building the Hulkbuster suit is a near impossi...</td>\n    </tr>\n  </tbody>\n</table>\n</div>"
     },
     "metadata": {},
     "execution_count": 23
    }
   ],
   "source": [
    "samples = data.sample(n=10)\n",
    "samples\n",
    ""
   ]
  },
  {
   "cell_type": "markdown",
   "metadata": {},
   "source": [
    "Now we've seen the random 10 samples from the dataset.\n",
    "\n",
    "Let us select 5 attributes from these 10 samples. Two numerical and 3 categorical attributes.\n",
    "\n",
    "For two numerical attributes, let us select **views** and **likes** columns.\n",
    "For the three categorical attributes, let us select **comments_disabled**, **ratings_disabled** and **category_id**\n",
    "\n",
    "In these five attributes, **comments_disabled** and **ratings_disabled** are Nominal Data. **category_id** can be also considered as Nominal Data.\n",
    "While **views** and **likes** are Continuous Data.\n",
    "\n",
    "Let us treat **category_id** as the target attribute.\n"
   ]
  },
  {
   "cell_type": "code",
   "execution_count": 24,
   "metadata": {},
   "outputs": [
    {
     "output_type": "execute_result",
     "data": {
      "text/plain": "         views   likes  comments_disabled  ratings_disabled  category_id\n40726  3805747  196261              False             False           10\n23411   305471    8425              False             False           10\n26120  7878506  348191              False             False           10\n15547   263914    7604              False             False           10\n11713   887367    6095              False             False            1\n1588     38775    1373              False             False           27\n34612  8241193  164604              False             False           22\n19441  3589995  196931              False             False           10\n4190   1457307   29851              False             False            2\n29978  1002018   54157              False             False           24",
      "text/html": "<div>\n<style scoped>\n    .dataframe tbody tr th:only-of-type {\n        vertical-align: middle;\n    }\n\n    .dataframe tbody tr th {\n        vertical-align: top;\n    }\n\n    .dataframe thead th {\n        text-align: right;\n    }\n</style>\n<table border=\"1\" class=\"dataframe\">\n  <thead>\n    <tr style=\"text-align: right;\">\n      <th></th>\n      <th>views</th>\n      <th>likes</th>\n      <th>comments_disabled</th>\n      <th>ratings_disabled</th>\n      <th>category_id</th>\n    </tr>\n  </thead>\n  <tbody>\n    <tr>\n      <th>40726</th>\n      <td>3805747</td>\n      <td>196261</td>\n      <td>False</td>\n      <td>False</td>\n      <td>10</td>\n    </tr>\n    <tr>\n      <th>23411</th>\n      <td>305471</td>\n      <td>8425</td>\n      <td>False</td>\n      <td>False</td>\n      <td>10</td>\n    </tr>\n    <tr>\n      <th>26120</th>\n      <td>7878506</td>\n      <td>348191</td>\n      <td>False</td>\n      <td>False</td>\n      <td>10</td>\n    </tr>\n    <tr>\n      <th>15547</th>\n      <td>263914</td>\n      <td>7604</td>\n      <td>False</td>\n      <td>False</td>\n      <td>10</td>\n    </tr>\n    <tr>\n      <th>11713</th>\n      <td>887367</td>\n      <td>6095</td>\n      <td>False</td>\n      <td>False</td>\n      <td>1</td>\n    </tr>\n    <tr>\n      <th>1588</th>\n      <td>38775</td>\n      <td>1373</td>\n      <td>False</td>\n      <td>False</td>\n      <td>27</td>\n    </tr>\n    <tr>\n      <th>34612</th>\n      <td>8241193</td>\n      <td>164604</td>\n      <td>False</td>\n      <td>False</td>\n      <td>22</td>\n    </tr>\n    <tr>\n      <th>19441</th>\n      <td>3589995</td>\n      <td>196931</td>\n      <td>False</td>\n      <td>False</td>\n      <td>10</td>\n    </tr>\n    <tr>\n      <th>4190</th>\n      <td>1457307</td>\n      <td>29851</td>\n      <td>False</td>\n      <td>False</td>\n      <td>2</td>\n    </tr>\n    <tr>\n      <th>29978</th>\n      <td>1002018</td>\n      <td>54157</td>\n      <td>False</td>\n      <td>False</td>\n      <td>24</td>\n    </tr>\n  </tbody>\n</table>\n</div>"
     },
     "metadata": {},
     "execution_count": 24
    }
   ],
   "source": [
    "new_df = pd.DataFrame(samples, columns = ['views','likes','comments_disabled','ratings_disabled','category_id'])\n",
    "new_df"
   ]
  },
  {
   "cell_type": "markdown",
   "metadata": {},
   "source": [
    "We can see that our new table has no incomplete, noisy or inconsistent value.\n",
    "\n",
    "Let us take a look what are the categories that are being represented by category_id."
   ]
  },
  {
   "cell_type": "code",
   "execution_count": 25,
   "metadata": {},
   "outputs": [
    {
     "output_type": "stream",
     "name": "stdout",
     "text": "Total number of category: 32\n"
    },
    {
     "output_type": "execute_result",
     "data": {
      "text/plain": "{'1': 'Film & Animation',\n '2': 'Autos & Vehicles',\n '10': 'Music',\n '15': 'Pets & Animals',\n '17': 'Sports',\n '18': 'Short Movies',\n '19': 'Travel & Events',\n '20': 'Gaming',\n '21': 'Videoblogging',\n '22': 'People & Blogs',\n '23': 'Comedy',\n '24': 'Entertainment',\n '25': 'News & Politics',\n '26': 'Howto & Style',\n '27': 'Education',\n '28': 'Science & Technology',\n '29': 'Nonprofits & Activism',\n '30': 'Movies',\n '31': 'Anime/Animation',\n '32': 'Action/Adventure',\n '33': 'Classics',\n '34': 'Comedy',\n '35': 'Documentary',\n '36': 'Drama',\n '37': 'Family',\n '38': 'Foreign',\n '39': 'Horror',\n '40': 'Sci-Fi/Fantasy',\n '41': 'Thriller',\n '42': 'Shorts',\n '43': 'Shows',\n '44': 'Trailers'}"
     },
     "metadata": {},
     "execution_count": 25
    }
   ],
   "source": [
    "with open('Data/US_category_id.json') as f:\n",
    "    data = json.load(f)\n",
    "  \n",
    "    categories = {}\n",
    "    for item in data['items']:\n",
    "        categories[item['id']] = item['snippet']['title']\n",
    "print(\"Total number of category: {0}\".format(len(categories)))\n",
    "categories"
   ]
  },
  {
   "cell_type": "markdown",
   "metadata": {},
   "source": [
    "Now let us compute the Pearson Correlation Coefficient for the two numerical attributes, views and likes.\n",
    "\n",
    "First let us create a temporary dataframe for views and likes attributes."
   ]
  },
  {
   "cell_type": "code",
   "execution_count": 26,
   "metadata": {},
   "outputs": [],
   "source": [
    "num_attrib = pd.DataFrame(new_df, columns = ['views', 'likes'])"
   ]
  },
  {
   "cell_type": "markdown",
   "metadata": {},
   "source": [
    "\n",
    "Now, we can calculate the Pearson Correlation Coefficient using Pandas function:  dataframe.corr(method='pearson')"
   ]
  },
  {
   "cell_type": "code",
   "execution_count": 27,
   "metadata": {},
   "outputs": [
    {
     "output_type": "execute_result",
     "data": {
      "text/plain": "          views     likes\nviews  1.000000  0.871086\nlikes  0.871086  1.000000",
      "text/html": "<div>\n<style scoped>\n    .dataframe tbody tr th:only-of-type {\n        vertical-align: middle;\n    }\n\n    .dataframe tbody tr th {\n        vertical-align: top;\n    }\n\n    .dataframe thead th {\n        text-align: right;\n    }\n</style>\n<table border=\"1\" class=\"dataframe\">\n  <thead>\n    <tr style=\"text-align: right;\">\n      <th></th>\n      <th>views</th>\n      <th>likes</th>\n    </tr>\n  </thead>\n  <tbody>\n    <tr>\n      <th>views</th>\n      <td>1.000000</td>\n      <td>0.871086</td>\n    </tr>\n    <tr>\n      <th>likes</th>\n      <td>0.871086</td>\n      <td>1.000000</td>\n    </tr>\n  </tbody>\n</table>\n</div>"
     },
     "metadata": {},
     "execution_count": 27
    }
   ],
   "source": [
    "num_attrib.corr(method = 'pearson')"
   ]
  },
  {
   "cell_type": "markdown",
   "metadata": {},
   "source": [
    "Looking at the calculation result, we can say that since we've got a positive values, views and likes attributes are positively correlated to each other. "
   ]
  },
  {
   "cell_type": "markdown",
   "metadata": {},
   "source": [
    "Now let us move on by calculating the Chi-Square Value for the two categorical evaluated attributes, comments_disabled and ratings_disabled.\n",
    "\n",
    "First let us create a crosstab of the two attributes."
   ]
  },
  {
   "cell_type": "code",
   "execution_count": 28,
   "metadata": {},
   "outputs": [
    {
     "output_type": "execute_result",
     "data": {
      "text/plain": "ratings_disabled   False\ncomments_disabled       \nFalse                 10",
      "text/html": "<div>\n<style scoped>\n    .dataframe tbody tr th:only-of-type {\n        vertical-align: middle;\n    }\n\n    .dataframe tbody tr th {\n        vertical-align: top;\n    }\n\n    .dataframe thead th {\n        text-align: right;\n    }\n</style>\n<table border=\"1\" class=\"dataframe\">\n  <thead>\n    <tr style=\"text-align: right;\">\n      <th>ratings_disabled</th>\n      <th>False</th>\n    </tr>\n    <tr>\n      <th>comments_disabled</th>\n      <th></th>\n    </tr>\n  </thead>\n  <tbody>\n    <tr>\n      <th>False</th>\n      <td>10</td>\n    </tr>\n  </tbody>\n</table>\n</div>"
     },
     "metadata": {},
     "execution_count": 28
    }
   ],
   "source": [
    "crosstab = pd.crosstab(new_df['comments_disabled'],new_df['ratings_disabled'])\n",
    "crosstab"
   ]
  },
  {
   "cell_type": "markdown",
   "metadata": {},
   "source": [
    "Now, using the crosstab we can calculate the chi-square value usinf scipy's stats.chi2_contingency(crosstab) function"
   ]
  },
  {
   "cell_type": "code",
   "execution_count": 29,
   "metadata": {},
   "outputs": [
    {
     "output_type": "execute_result",
     "data": {
      "text/plain": "0.0"
     },
     "metadata": {},
     "execution_count": 29
    }
   ],
   "source": [
    "chi2,p_value,dof,freqs = stats.chi2_contingency(crosstab)\n",
    "chi2"
   ]
  },
  {
   "cell_type": "markdown",
   "metadata": {},
   "source": [
    "chi2 tells the discrepancies between the expected and the actual result.\n",
    "\n",
    "Since we've got 0 or pretty low result, it means that there are no or low correlation between these two categories \n",
    "\n",
    "\n"
   ]
  },
  {
   "cell_type": "markdown",
   "metadata": {},
   "source": [
    "Now let us normalize the numerical attributes to new value range 0,1 using min-max normalization. "
   ]
  },
  {
   "cell_type": "code",
   "execution_count": 30,
   "metadata": {},
   "outputs": [
    {
     "output_type": "execute_result",
     "data": {
      "text/plain": "          views     likes  comments_disabled  ratings_disabled  category_id\n40726  0.459251  0.561932              False             False           10\n23411  0.032514  0.020333              False             False           10\n26120  0.955783  1.000000              False             False           10\n15547  0.027448  0.017966              False             False           10\n11713  0.103456  0.013615              False             False            1\n1588   0.000000  0.000000              False             False           27\n34612  1.000000  0.470653              False             False           22\n19441  0.432948  0.563863              False             False           10\n4190   0.172941  0.082112              False             False            2\n29978  0.117434  0.152195              False             False           24",
      "text/html": "<div>\n<style scoped>\n    .dataframe tbody tr th:only-of-type {\n        vertical-align: middle;\n    }\n\n    .dataframe tbody tr th {\n        vertical-align: top;\n    }\n\n    .dataframe thead th {\n        text-align: right;\n    }\n</style>\n<table border=\"1\" class=\"dataframe\">\n  <thead>\n    <tr style=\"text-align: right;\">\n      <th></th>\n      <th>views</th>\n      <th>likes</th>\n      <th>comments_disabled</th>\n      <th>ratings_disabled</th>\n      <th>category_id</th>\n    </tr>\n  </thead>\n  <tbody>\n    <tr>\n      <th>40726</th>\n      <td>0.459251</td>\n      <td>0.561932</td>\n      <td>False</td>\n      <td>False</td>\n      <td>10</td>\n    </tr>\n    <tr>\n      <th>23411</th>\n      <td>0.032514</td>\n      <td>0.020333</td>\n      <td>False</td>\n      <td>False</td>\n      <td>10</td>\n    </tr>\n    <tr>\n      <th>26120</th>\n      <td>0.955783</td>\n      <td>1.000000</td>\n      <td>False</td>\n      <td>False</td>\n      <td>10</td>\n    </tr>\n    <tr>\n      <th>15547</th>\n      <td>0.027448</td>\n      <td>0.017966</td>\n      <td>False</td>\n      <td>False</td>\n      <td>10</td>\n    </tr>\n    <tr>\n      <th>11713</th>\n      <td>0.103456</td>\n      <td>0.013615</td>\n      <td>False</td>\n      <td>False</td>\n      <td>1</td>\n    </tr>\n    <tr>\n      <th>1588</th>\n      <td>0.000000</td>\n      <td>0.000000</td>\n      <td>False</td>\n      <td>False</td>\n      <td>27</td>\n    </tr>\n    <tr>\n      <th>34612</th>\n      <td>1.000000</td>\n      <td>0.470653</td>\n      <td>False</td>\n      <td>False</td>\n      <td>22</td>\n    </tr>\n    <tr>\n      <th>19441</th>\n      <td>0.432948</td>\n      <td>0.563863</td>\n      <td>False</td>\n      <td>False</td>\n      <td>10</td>\n    </tr>\n    <tr>\n      <th>4190</th>\n      <td>0.172941</td>\n      <td>0.082112</td>\n      <td>False</td>\n      <td>False</td>\n      <td>2</td>\n    </tr>\n    <tr>\n      <th>29978</th>\n      <td>0.117434</td>\n      <td>0.152195</td>\n      <td>False</td>\n      <td>False</td>\n      <td>24</td>\n    </tr>\n  </tbody>\n</table>\n</div>"
     },
     "metadata": {},
     "execution_count": 30
    }
   ],
   "source": [
    "def normalize(col):\n",
    "    min = np.min(col)\n",
    "    max = np.max(col)\n",
    "    range = max - min\n",
    "\n",
    "    return [(item - min) / range for item in col]\n",
    "new_df['views'], new_df['likes'] = normalize(new_df['views']), normalize(new_df['likes'])\n",
    "new_df\n",
    ""
   ]
  },
  {
   "cell_type": "markdown",
   "metadata": {},
   "source": [
    "Now let us let us apply Equal-Width Binning to partition our numerical attributes into Low, Medium and High. "
   ]
  },
  {
   "cell_type": "code",
   "execution_count": 31,
   "metadata": {},
   "outputs": [
    {
     "output_type": "execute_result",
     "data": {
      "text/plain": "        views   likes  comments_disabled  ratings_disabled  category_id\n40726  Medium  Medium              False             False           10\n23411     Low     Low              False             False           10\n26120    High    High              False             False           10\n15547     Low     Low              False             False           10\n11713     Low     Low              False             False            1\n1588      Low     Low              False             False           27\n34612    High  Medium              False             False           22\n19441  Medium  Medium              False             False           10\n4190      Low     Low              False             False            2\n29978     Low     Low              False             False           24",
      "text/html": "<div>\n<style scoped>\n    .dataframe tbody tr th:only-of-type {\n        vertical-align: middle;\n    }\n\n    .dataframe tbody tr th {\n        vertical-align: top;\n    }\n\n    .dataframe thead th {\n        text-align: right;\n    }\n</style>\n<table border=\"1\" class=\"dataframe\">\n  <thead>\n    <tr style=\"text-align: right;\">\n      <th></th>\n      <th>views</th>\n      <th>likes</th>\n      <th>comments_disabled</th>\n      <th>ratings_disabled</th>\n      <th>category_id</th>\n    </tr>\n  </thead>\n  <tbody>\n    <tr>\n      <th>40726</th>\n      <td>Medium</td>\n      <td>Medium</td>\n      <td>False</td>\n      <td>False</td>\n      <td>10</td>\n    </tr>\n    <tr>\n      <th>23411</th>\n      <td>Low</td>\n      <td>Low</td>\n      <td>False</td>\n      <td>False</td>\n      <td>10</td>\n    </tr>\n    <tr>\n      <th>26120</th>\n      <td>High</td>\n      <td>High</td>\n      <td>False</td>\n      <td>False</td>\n      <td>10</td>\n    </tr>\n    <tr>\n      <th>15547</th>\n      <td>Low</td>\n      <td>Low</td>\n      <td>False</td>\n      <td>False</td>\n      <td>10</td>\n    </tr>\n    <tr>\n      <th>11713</th>\n      <td>Low</td>\n      <td>Low</td>\n      <td>False</td>\n      <td>False</td>\n      <td>1</td>\n    </tr>\n    <tr>\n      <th>1588</th>\n      <td>Low</td>\n      <td>Low</td>\n      <td>False</td>\n      <td>False</td>\n      <td>27</td>\n    </tr>\n    <tr>\n      <th>34612</th>\n      <td>High</td>\n      <td>Medium</td>\n      <td>False</td>\n      <td>False</td>\n      <td>22</td>\n    </tr>\n    <tr>\n      <th>19441</th>\n      <td>Medium</td>\n      <td>Medium</td>\n      <td>False</td>\n      <td>False</td>\n      <td>10</td>\n    </tr>\n    <tr>\n      <th>4190</th>\n      <td>Low</td>\n      <td>Low</td>\n      <td>False</td>\n      <td>False</td>\n      <td>2</td>\n    </tr>\n    <tr>\n      <th>29978</th>\n      <td>Low</td>\n      <td>Low</td>\n      <td>False</td>\n      <td>False</td>\n      <td>24</td>\n    </tr>\n  </tbody>\n</table>\n</div>"
     },
     "metadata": {},
     "execution_count": 31
    }
   ],
   "source": [
    "new_df['views'], new_df['likes']  = pd.cut(new_df['views'],3, labels=[\"Low\",\"Medium\",\"High\"]),  pd.cut(new_df['likes'],3, labels=[\"Low\",\"Medium\",\"High\"])\n",
    "new_df"
   ]
  },
  {
   "cell_type": "markdown",
   "metadata": {},
   "source": [
    "For the last part, let us calculate the Information Gains of Likes and Views. We will disregard the other two evaluated attributes because they have the same values. \n",
    "\n",
    "First let us calculate the entropy for category_id"
   ]
  },
  {
   "cell_type": "code",
   "execution_count": 32,
   "metadata": {},
   "outputs": [
    {
     "output_type": "execute_result",
     "data": {
      "text/plain": "2.1609640474436813"
     },
     "metadata": {},
     "execution_count": 32
    }
   ],
   "source": [
    "pd_target_attr_category_id = Counter(new_df['category_id'])\n",
    "p = []\n",
    "for key,val in pd_target_attr_category_id.items():\n",
    "    p.append(val/10)\n",
    "\n",
    "entropy_target_attr_category_id = entropy(p,base=2)\n",
    "entropy_target_attr_category_id"
   ]
  },
  {
   "cell_type": "markdown",
   "metadata": {},
   "source": [
    "Now let us get the entropies of level of views vs category_id.\n",
    "\n",
    "\n",
    "First let us create a cross tab of the two attributes and visualize how many and which categories falls in the 3 levels of views (Low, Medium, High)."
   ]
  },
  {
   "cell_type": "code",
   "execution_count": 33,
   "metadata": {},
   "outputs": [
    {
     "output_type": "execute_result",
     "data": {
      "text/plain": "category_id  1   2   10  22  24  27\nviews                              \nLow           1   1   2   0   1   1\nMedium        0   0   2   0   0   0\nHigh          0   0   1   1   0   0",
      "text/html": "<div>\n<style scoped>\n    .dataframe tbody tr th:only-of-type {\n        vertical-align: middle;\n    }\n\n    .dataframe tbody tr th {\n        vertical-align: top;\n    }\n\n    .dataframe thead th {\n        text-align: right;\n    }\n</style>\n<table border=\"1\" class=\"dataframe\">\n  <thead>\n    <tr style=\"text-align: right;\">\n      <th>category_id</th>\n      <th>1</th>\n      <th>2</th>\n      <th>10</th>\n      <th>22</th>\n      <th>24</th>\n      <th>27</th>\n    </tr>\n    <tr>\n      <th>views</th>\n      <th></th>\n      <th></th>\n      <th></th>\n      <th></th>\n      <th></th>\n      <th></th>\n    </tr>\n  </thead>\n  <tbody>\n    <tr>\n      <th>Low</th>\n      <td>1</td>\n      <td>1</td>\n      <td>2</td>\n      <td>0</td>\n      <td>1</td>\n      <td>1</td>\n    </tr>\n    <tr>\n      <th>Medium</th>\n      <td>0</td>\n      <td>0</td>\n      <td>2</td>\n      <td>0</td>\n      <td>0</td>\n      <td>0</td>\n    </tr>\n    <tr>\n      <th>High</th>\n      <td>0</td>\n      <td>0</td>\n      <td>1</td>\n      <td>1</td>\n      <td>0</td>\n      <td>0</td>\n    </tr>\n  </tbody>\n</table>\n</div>"
     },
     "metadata": {},
     "execution_count": 33
    }
   ],
   "source": [
    "ct = pd.crosstab(new_df['views'],new_df['category_id'])\n",
    "ct"
   ]
  },
  {
   "cell_type": "markdown",
   "metadata": {},
   "source": [
    "Now let us get the entropies of categories for each view level"
   ]
  },
  {
   "cell_type": "code",
   "execution_count": 34,
   "metadata": {},
   "outputs": [
    {
     "output_type": "execute_result",
     "data": {
      "text/plain": "[2.251629167387823, 0.0, 1.0]"
     },
     "metadata": {},
     "execution_count": 34
    }
   ],
   "source": [
    "num_view_labels = max(ct.count())\n",
    "view_level_Pds = []\n",
    "for view_label in range(num_view_labels):\n",
    "    temp = []\n",
    "    for label,content in ct.iteritems():\n",
    "        temp.append(content[view_label]/len(pd_target_attr_category_id))\n",
    "    view_level_Pds.append(temp)\n",
    "entropy_category_vs_views = []\n",
    "for arr in view_level_Pds:\n",
    "    entropy_category_vs_views.append(entropy(arr,base=2))\n",
    "entropy_category_vs_views"
   ]
  },
  {
   "cell_type": "code",
   "execution_count": 19,
   "metadata": {},
   "outputs": [
    {
     "output_type": "stream",
     "name": "stdout",
     "text": "Views vs category information gain is:\n"
    },
    {
     "output_type": "execute_result",
     "data": {
      "text/plain": "0.19350684337293433"
     },
     "metadata": {},
     "execution_count": 19
    }
   ],
   "source": [
    "view_levels = Counter(new_df['views'])\n",
    "\n",
    "sum_views_entropy  = 0\n",
    "idx = 0\n",
    "for key,val in view_levels.items():\n",
    "    sum_views_entropy = sum_views_entropy+(val/10)*entropy_category_vs_views[idx]\n",
    "    idx = idx+1\n",
    "information_gain = entropy_target_attr_category_id-sum_views_entropy\n",
    "print(\"Views vs category information gain is:\")\n",
    "information_gain"
   ]
  },
  {
   "cell_type": "markdown",
   "metadata": {},
   "source": [
    "Now, let us do the same for the likes attribure."
   ]
  },
  {
   "cell_type": "code",
   "execution_count": 35,
   "metadata": {},
   "outputs": [
    {
     "output_type": "stream",
     "name": "stdout",
     "text": "Likes vs category information gain is:\n"
    },
    {
     "output_type": "execute_result",
     "data": {
      "text/plain": "-0.09066511994414173"
     },
     "metadata": {},
     "execution_count": 35
    }
   ],
   "source": [
    "ct2 = pd.crosstab(new_df['likes'],new_df['category_id'])\n",
    "\n",
    "num_likes_labels = max(ct2.count())\n",
    "likes_level_Pds = []\n",
    "for likes_label in range(num_likes_labels):\n",
    "    temp = []\n",
    "    for label,content in ct2.iteritems():\n",
    "        temp.append(content[likes_label]/len(pd_target_attr_category_id))\n",
    "    likes_level_Pds.append(temp)\n",
    "entropy_category_vs_likes = []\n",
    "for arr in likes_level_Pds:\n",
    "    entropy_category_vs_likes.append(entropy(arr,base=2))\n",
    "\n",
    "likes_levels = Counter(new_df['likes'])\n",
    "sum_likes_entropy  = 0\n",
    "idx = 0\n",
    "for key,val in likes_levels.items():\n",
    "    sum_likes_entropy = sum_likes_entropy+(val/10)*entropy_category_vs_likes[idx]\n",
    "information_gain = entropy_target_attr_category_id-sum_likes_entropy\n",
    "print(\"Likes vs category information gain is:\")\n",
    "information_gain"
   ]
  },
  {
   "cell_type": "markdown",
   "metadata": {},
   "source": [
    "Now we can say that the views attribute is more important than likes because it has larger information gain. "
   ]
  }
 ]
}