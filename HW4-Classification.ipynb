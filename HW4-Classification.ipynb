{
 "cells": [
  {
   "cell_type": "code",
   "execution_count": 35,
   "metadata": {},
   "outputs": [],
   "source": [
    "set.seed(123)\n",
    "options(warn=-1)\n",
    "library(\"dplyr\")\n",
    "dt <- read.csv(\"Data\\\\USvideos_catNames.csv\")\n",
    "dt <- dt[which(dt$category_id == \"Comedy\" | dt$category_id == \"Music\"  | dt$category_id == \"Sports\"),]\n",
    "dt <- sample_n(dt,100)\n",
    "ds <- dt[,c(\"video_id\",\"views\",\"likes\",\"dislikes\",\"comment_count\",\"category_id\")]\n",
    "\n",
    "ds <- na.omit(ds)\n",
    "\n",
    "normalized<-function(y) {\n",
    "\n",
    "  x<-y[!is.na(y)]\n",
    "\n",
    "  x<-(x - min(x)) / (max(x) - min(x))\n",
    "\n",
    "  y[!is.na(y)]<-x\n",
    "\n",
    "  return(y)\n",
    "}\n",
    "ds$views <- normalized(ds$views)\n",
    "ds$likes <- normalized(ds$likes)\n",
    "ds$dislikes <- normalized(ds$dislikes)\n",
    "ds$comment_count <- normalized(ds$comment_count)\n",
    "\n",
    "\n",
    "ds.train <-ds[1:70,c(\"views\",\"likes\",\"dislikes\",\"comment_count\",\"category_id\")]\n",
    "ds.test <- ds[71:100,c(\"views\",\"likes\",\"dislikes\",\"comment_count\",\"category_id\")]\n",
    "\n",
    "\n",
    "\n",
    "ds.train$category_id <- droplevels(ds.train$category_id)\n",
    "ds.test$category_id <- droplevels(ds.test$category_id)\n",
    "\n"
   ]
  },
  {
   "cell_type": "code",
   "execution_count": 36,
   "metadata": {
    "scrolled": true
   },
   "outputs": [
    {
     "data": {
      "text/plain": [
       "\n",
       "   Comedy     Music    Sports \n",
       "0.2428571 0.5285714 0.2285714 "
      ]
     },
     "metadata": {},
     "output_type": "display_data"
    },
    {
     "data": {
      "text/plain": [
       "\n",
       "Comedy  Music Sports \n",
       "   0.2    0.4    0.4 "
      ]
     },
     "metadata": {},
     "output_type": "display_data"
    }
   ],
   "source": [
    "prop.table(table(ds.train$category_id))\n",
    "prop.table(table(ds.test$category_id))"
   ]
  },
  {
   "cell_type": "code",
   "execution_count": 37,
   "metadata": {
    "scrolled": true
   },
   "outputs": [
    {
     "data": {
      "text/plain": [
       "\n",
       "Call:\n",
       " randomForest(formula = category_id ~ ., data = ds.train, importance = TRUE,      ntree = 100) \n",
       "               Type of random forest: classification\n",
       "                     Number of trees: 100\n",
       "No. of variables tried at each split: 2\n",
       "\n",
       "        OOB estimate of  error rate: 35.71%\n",
       "Confusion matrix:\n",
       "       Comedy Music Sports class.error\n",
       "Comedy      9     7      1   0.4705882\n",
       "Music       3    27      7   0.2702703\n",
       "Sports      1     6      9   0.4375000"
      ]
     },
     "metadata": {},
     "output_type": "display_data"
    },
    {
     "data": {
      "image/png": "[encoded data removed]",
      "text/plain": [
       "Plot with title \"RF\""
      ]
     },
     "metadata": {},
     "output_type": "display_data"
    }
   ],
   "source": [
    "\n",
    "library(party)\n",
    "library(randomForest)\n",
    "\n",
    "RF <- randomForest(formula = category_id ~. , data = ds.train ,importance = TRUE, ntree = 100)\n",
    "\n",
    "RF\n",
    "\n",
    "plot(RF)\n"
   ]
  },
  {
   "cell_type": "code",
   "execution_count": 38,
   "metadata": {},
   "outputs": [
    {
     "data": {
      "text/plain": [
       "            \n",
       "RF.train_res Comedy Music Sports\n",
       "      Comedy     17     0      0\n",
       "      Music       0    37      0\n",
       "      Sports      0     0     16"
      ]
     },
     "metadata": {},
     "output_type": "display_data"
    },
    {
     "data": {
      "text/html": [
       "1"
      ],
      "text/latex": [
       "1"
      ],
      "text/markdown": [
       "1"
      ],
      "text/plain": [
       "[1] 1"
      ]
     },
     "metadata": {},
     "output_type": "display_data"
    }
   ],
   "source": [
    "RF.train_res <- predict(RF, ds.train, type = \"class\")\n",
    "table(RF.train_res , ds.train$category_id)  \n",
    "mean(RF.train_res  == ds.train$category_id)"
   ]
  },
  {
   "cell_type": "code",
   "execution_count": 39,
   "metadata": {},
   "outputs": [
    {
     "data": {
      "text/html": [
       "0.633333333333333"
      ],
      "text/latex": [
       "0.633333333333333"
      ],
      "text/markdown": [
       "0.633333333333333"
      ],
      "text/plain": [
       "[1] 0.6333333"
      ]
     },
     "metadata": {},
     "output_type": "display_data"
    },
    {
     "data": {
      "text/plain": [
       "           \n",
       "RF.test_res Comedy Music Sports\n",
       "     Comedy      3     2      2\n",
       "     Music       2    10      4\n",
       "     Sports      1     0      6"
      ]
     },
     "metadata": {},
     "output_type": "display_data"
    }
   ],
   "source": [
    "RF.test_res <- predict(RF, ds.test , type = \"class\")\n",
    "mean(RF.test_res == ds.test$category_id)                    \n",
    "table(RF.test_res, ds.test$category_id)  "
   ]
  },
  {
   "cell_type": "code",
   "execution_count": 40,
   "metadata": {},
   "outputs": [
    {
     "name": "stdout",
     "output_type": "stream",
     "text": [
      "              MeanDecreaseGini\n",
      "views                 9.110894\n",
      "likes                14.092061\n",
      "dislikes              8.391805\n",
      "comment_count        10.440954\n"
     ]
    },
    {
     "data": {
      "image/png": "[encoded data removed]",
      "text/plain": [
       "plot without title"
      ]
     },
     "metadata": {},
     "output_type": "display_data"
    }
   ],
   "source": [
    "print(importance(RF,type = 2)) \n",
    "varImpPlot(RF)"
   ]
  },
  {
   "cell_type": "code",
   "execution_count": 41,
   "metadata": {},
   "outputs": [
    {
     "data": {
      "text/plain": [
       "\n",
       "Call:\n",
       "C5.0.formula(formula = category_id ~ ., data = ds.train)\n",
       "\n",
       "\n",
       "C5.0 [Release 2.07 GPL Edition]  \tWed May 06 02:06:54 2020\n",
       "-------------------------------\n",
       "\n",
       "Class specified by attribute `outcome'\n",
       "\n",
       "Read 70 cases (5 attributes) from undefined.data\n",
       "\n",
       "Decision tree:\n",
       "\n",
       "likes <= 0.003889425:\n",
       ":...comment_count <= 0.0005959476:\n",
       ":   :...dislikes <= 0.0001804822: Sports (3)\n",
       ":   :   dislikes > 0.0001804822: Comedy (3)\n",
       ":   comment_count > 0.0005959476:\n",
       ":   :...views > 0.001894471: Sports (9/1)\n",
       ":       views <= 0.001894471:\n",
       ":       :...comment_count > 0.001427085: Music (4)\n",
       ":           comment_count <= 0.001427085:\n",
       ":           :...likes <= 0.001333003: Music (2)\n",
       ":               likes > 0.001333003: Sports (2)\n",
       "likes > 0.003889425:\n",
       ":...likes <= 0.005849954: Comedy (6)\n",
       "    likes > 0.005849954:\n",
       "    :...dislikes <= 0.004040966: Music (13)\n",
       "        dislikes > 0.004040966:\n",
       "        :...comment_count > 0.01801994: Music (17/2)\n",
       "            comment_count <= 0.01801994:\n",
       "            :...likes <= 0.008924939: Sports (3/1)\n",
       "                likes > 0.008924939:\n",
       "                :...likes <= 0.01851545: Music (3/1)\n",
       "                    likes > 0.01851545: Comedy (5)\n",
       "\n",
       "\n",
       "Evaluation on training data (70 cases):\n",
       "\n",
       "\t    Decision Tree   \n",
       "\t  ----------------  \n",
       "\t  Size      Errors  \n",
       "\n",
       "\t    12    5( 7.1%)   <<\n",
       "\n",
       "\n",
       "\t   (a)   (b)   (c)    <-classified as\n",
       "\t  ----  ----  ----\n",
       "\t    14     2     1    (a): class Comedy\n",
       "\t          36     1    (b): class Music\n",
       "\t           1    15    (c): class Sports\n",
       "\n",
       "\n",
       "\tAttribute usage:\n",
       "\n",
       "\t100.00%\tlikes\n",
       "\t 72.86%\tcomment_count\n",
       "\t 67.14%\tdislikes\n",
       "\t 24.29%\tviews\n",
       "\n",
       "\n",
       "Time: 0.0 secs\n"
      ]
     },
     "metadata": {},
     "output_type": "display_data"
    },
    {
     "data": {
      "image/png": "[encoded data removed]",
      "text/plain": [
       "plot without title"
      ]
     },
     "metadata": {},
     "output_type": "display_data"
    }
   ],
   "source": [
    "\n",
    "library(\"C50\")\n",
    "\n",
    "DT <- C5.0(formula = category_id ~., data =   ds.train)\n",
    "\n",
    "summary(DT)\n",
    "plot(DT)"
   ]
  },
  {
   "cell_type": "code",
   "execution_count": 42,
   "metadata": {},
   "outputs": [
    {
     "data": {
      "text/plain": [
       "            \n",
       "DT.train_res Comedy Music Sports\n",
       "      Comedy     14     0      0\n",
       "      Music       2    36      1\n",
       "      Sports      1     1     15"
      ]
     },
     "metadata": {},
     "output_type": "display_data"
    },
    {
     "data": {
      "text/html": [
       "0.928571428571429"
      ],
      "text/latex": [
       "0.928571428571429"
      ],
      "text/markdown": [
       "0.928571428571429"
      ],
      "text/plain": [
       "[1] 0.9285714"
      ]
     },
     "metadata": {},
     "output_type": "display_data"
    }
   ],
   "source": [
    "DT.train_res = predict(DT, newdata = ds.train )\n",
    "table(DT.train_res, ds.train$category_id)\n",
    "mean(DT.train_res == ds.train$category_id)"
   ]
  },
  {
   "cell_type": "code",
   "execution_count": 43,
   "metadata": {},
   "outputs": [
    {
     "data": {
      "text/plain": [
       "           \n",
       "DT.test_res Comedy Music Sports\n",
       "     Comedy      1     2      1\n",
       "     Music       4     8      7\n",
       "     Sports      1     2      4"
      ]
     },
     "metadata": {},
     "output_type": "display_data"
    },
    {
     "data": {
      "text/html": [
       "0.433333333333333"
      ],
      "text/latex": [
       "0.433333333333333"
      ],
      "text/markdown": [
       "0.433333333333333"
      ],
      "text/plain": [
       "[1] 0.4333333"
      ]
     },
     "metadata": {},
     "output_type": "display_data"
    }
   ],
   "source": [
    "DT.test_res = predict(DT, newdata = ds.test)\n",
    "table(DT.test_res, ds.test$category_id)\n",
    "mean(DT.test_res == ds.test$category_id)"
   ]
  },
  {
   "cell_type": "code",
   "execution_count": 44,
   "metadata": {},
   "outputs": [
    {
     "data": {
      "text/plain": [
       "          Length Class  Mode     \n",
       "apriori   3      table  numeric  \n",
       "tables    4      -none- list     \n",
       "levels    3      -none- character\n",
       "isnumeric 4      -none- logical  \n",
       "call      4      -none- call     "
      ]
     },
     "metadata": {},
     "output_type": "display_data"
    }
   ],
   "source": [
    "\n",
    "library(e1071)\n",
    "\n",
    "NB = naiveBayes(formula = category_id ~., data = ds.train)\n",
    "summary(NB)\n"
   ]
  },
  {
   "cell_type": "code",
   "execution_count": 45,
   "metadata": {},
   "outputs": [
    {
     "data": {
      "text/plain": [
       "            \n",
       "NB.train_res Comedy Music Sports\n",
       "      Comedy      6    15      0\n",
       "      Music       1     8      1\n",
       "      Sports     10    14     15"
      ]
     },
     "metadata": {},
     "output_type": "display_data"
    },
    {
     "data": {
      "text/html": [
       "0.414285714285714"
      ],
      "text/latex": [
       "0.414285714285714"
      ],
      "text/markdown": [
       "0.414285714285714"
      ],
      "text/plain": [
       "[1] 0.4142857"
      ]
     },
     "metadata": {},
     "output_type": "display_data"
    }
   ],
   "source": [
    "NB.train_res = predict(NB, newdata = ds.train)\n",
    "table(NB.train_res, ds.train$category_id)\n",
    "mean(NB.train_res == ds.train$category_id)"
   ]
  },
  {
   "cell_type": "code",
   "execution_count": 46,
   "metadata": {},
   "outputs": [
    {
     "data": {
      "text/plain": [
       "           \n",
       "NB.test_res Comedy Music Sports\n",
       "     Comedy      2     4      1\n",
       "     Music       0     3      2\n",
       "     Sports      4     5      9"
      ]
     },
     "metadata": {},
     "output_type": "display_data"
    },
    {
     "data": {
      "text/html": [
       "0.466666666666667"
      ],
      "text/latex": [
       "0.466666666666667"
      ],
      "text/markdown": [
       "0.466666666666667"
      ],
      "text/plain": [
       "[1] 0.4666667"
      ]
     },
     "metadata": {},
     "output_type": "display_data"
    }
   ],
   "source": [
    "NB.test_res = predict(NB, newdata = ds.test)\n",
    "table(NB.test_res, ds.test$category_id)\n",
    "mean(NB.test_res == ds.test$category_id)"
   ]
  },
  {
   "cell_type": "code",
   "execution_count": null,
   "metadata": {},
   "outputs": [],
   "source": []
  }
 ],
 "metadata": {
  "kernelspec": {
   "display_name": "R",
   "language": "R",
   "name": "ir"
  },
  "language_info": {
   "codemirror_mode": "r",
   "file_extension": ".r",
   "mimetype": "text/x-r-source",
   "name": "R",
   "pygments_lexer": "r",
   "version": "3.6.1"
  }
 },
 "nbformat": 4,
 "nbformat_minor": 4
}
