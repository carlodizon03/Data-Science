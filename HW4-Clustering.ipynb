{
 "cells": [
  {
   "cell_type": "markdown",
   "metadata": {},
   "source": [
    "\n",
    "\n",
    "\n",
    "\n",
    "\n",
    "\n",
    "# Homework 4 - Clustering\n",
    "#### Author: Carlo D. Pastoral\n",
    "- In this homework, I am going to use the dataset of **Youtube Trending Videos in United States** and cluster the data using various clustering algorithm that can be used with **Gower Distance Measurement**.\n",
    "\n"
   ]
  },
  {
   "cell_type": "markdown",
   "metadata": {},
   "source": [
    "### Data Preparation\n",
    "\n",
    "- First I will access the CSV file, get a random 50 samples, and normalize the attributes that has too sparse values.\n",
    "- I will also make a separate container for gower distance matrix.\n"
   ]
  },
  {
   "cell_type": "code",
   "execution_count": 13,
   "metadata": {},
   "outputs": [],
   "source": [
    "# set seed for reproduction\n",
    "set.seed(123)\n",
    "options(warn=-1)\n",
    "# dplyr library for data manipulation\n",
    "library(\"dplyr\")\n",
    "dt <- read.csv(\"Data\\\\USvideos.csv\")\n",
    "dt <- sample_n(dt,50)\n",
    "ds <- dt[,c(\"video_id\",\"views\",\"likes\",\"dislikes\",\"comment_count\",\"category_id\",\"trending_date\")]\n",
    "# omit empty cells \n",
    "ds <- na.omit(ds)\n",
    "# normalization function\n",
    "normalized<-function(y) {\n",
    "\n",
    "  x<-y[!is.na(y)]\n",
    "\n",
    "  x<-(x - min(x)) / (max(x) - min(x))\n",
    "\n",
    "  y[!is.na(y)]<-x\n",
    "\n",
    "  return(y)\n",
    "}\n",
    "\n",
    "# normalize numeric data\n",
    "ds$views <- normalized(ds$views)\n",
    "ds$likes <- normalized(ds$likes)\n",
    "ds$dislikes <- normalized(ds$dislikes)\n",
    "ds$comment_count <- normalized(ds$comment_count)\n",
    "\n",
    "# store in separate container\n",
    "ds.toGowerCluster <-  ds[,c(\"views\",\"likes\",\"dislikes\",\"comment_count\",\"category_id\")]"
   ]
  },
  {
   "cell_type": "markdown",
   "metadata": {},
   "source": [
    "### Entropy\n",
    "\n",
    "- Before I begin in clustering the data, I wanna know first how diverse my data is.\n",
    "- This will serve as my reference on validating the clusters\n",
    "- A simple intuition of entropy is basically, a \"measure of uncertainty\". \n",
    "- So a higher entropy means that the data is more surprising or diverse.\n",
    "- We can see in the result below that other than **category_id** which has an entropy of ~2.9, all other attributes has an average entropy of 5. This is because, **category_id** is a categorical attribute and it can be said as a label of each video which **has a more uniform distribution** than others."
   ]
  },
  {
   "cell_type": "code",
   "execution_count": 14,
   "metadata": {},
   "outputs": [
    {
     "name": "stdout",
     "output_type": "stream",
     "text": [
      "[1] \"video_id Entropy: 5.60385618977472\"\n",
      "[1] \"Views Entropy: 5.64385618977472\"\n",
      "[1] \"likes Entropy: 5.64385618977472\"\n",
      "[1] \"dislikes Entropy: 5.60385618977472\"\n",
      "[1] \"comment_count Entropy: 5.64385618977472\"\n",
      "[1] \"category_id Entropy: 2.92772694231824\"\n",
      "[1] \"trending_date Entropy: 5.44385618977472\"\n"
     ]
    }
   ],
   "source": [
    "#compute Shannon entropy\n",
    "entropy <- function(target) {\n",
    "  freq <- table(target)/length(target)\n",
    "  # vectorize\n",
    "  vec <- as.data.frame(freq)[,2]\n",
    "  #drop 0 to avoid NaN resulting from log2\n",
    "  vec<-vec[vec>0]\n",
    "  #compute entropy\n",
    "  -sum(vec * log2(vec))\n",
    "}\n",
    "\n",
    "print(paste0(\"video_id Entropy: \",entropy(ds$video_id)))\n",
    "print(paste0(\"Views Entropy: \",entropy(ds$views)))\n",
    "print(paste0(\"likes Entropy: \",entropy(ds$likes)))\n",
    "print(paste0(\"dislikes Entropy: \",entropy(ds$dislikes)))\n",
    "print(paste0(\"comment_count Entropy: \",entropy(ds$comment_count)))\n",
    "print(paste0(\"category_id Entropy: \",entropy(ds$category_id)))\n",
    "print(paste0(\"trending_date Entropy: \",entropy(ds$trending_date)))"
   ]
  },
  {
   "cell_type": "markdown",
   "metadata": {},
   "source": [
    "### Distance and Similarity\n",
    "\n",
    "- In this part, I converted the **ds.toGowerCluster** data frame in to a gower distance matrix.\n",
    "- And I made a Similarity and Disimilarity analysis\n",
    "\n"
   ]
  },
  {
   "cell_type": "code",
   "execution_count": 15,
   "metadata": {
    "scrolled": false
   },
   "outputs": [],
   "source": [
    "library(\"cluster\")\n",
    "gower_dist <- daisy(ds.toGowerCluster, metric=\"gower\")\n",
    "distance_matrix <- as.matrix(gower_dist)"
   ]
  },
  {
   "cell_type": "markdown",
   "metadata": {},
   "source": [
    "#### Most Similar Pair\n",
    "\n",
    "- To have another validation reference, I made a simple analysis on distance measurement. \n",
    "- Here, I queried the **most similar** pair inside my dataset. \n",
    "- Looking at the result, it is pretty obvious that I've got a pair of entry but same video. But it is not yet that obvious, it has another reason not to be obvious.\n",
    "- One reason is by looking at the **trending_date**, it can simply mean that this video got trending more than once! that made id become too close to each other, because the span of being trending twice is just 3 days therefore, the counted values in other attributes are almost the same.\n",
    "- Judging from this result, I can expect that this two entries must lie in the same cluster."
   ]
  },
  {
   "cell_type": "code",
   "execution_count": 16,
   "metadata": {},
   "outputs": [
    {
     "data": {
      "text/html": [
       "<table>\n",
       "<thead><tr><th></th><th scope=col>video_id</th><th scope=col>views</th><th scope=col>likes</th><th scope=col>dislikes</th><th scope=col>comment_count</th><th scope=col>category_id</th><th scope=col>trending_date</th></tr></thead>\n",
       "<tbody>\n",
       "\t<tr><th scope=row>26</th><td>0IC3II1i5yM</td><td>0.003815189</td><td>0.003294335</td><td>0.03181393 </td><td>0.02621956 </td><td>25         </td><td>17.20.12   </td></tr>\n",
       "\t<tr><th scope=row>16</th><td>0IC3II1i5yM</td><td>0.003940052</td><td>0.003354414</td><td>0.03221494 </td><td>0.02592870 </td><td>25         </td><td>17.23.12   </td></tr>\n",
       "</tbody>\n",
       "</table>\n"
      ],
      "text/latex": [
       "\\begin{tabular}{r|lllllll}\n",
       "  & video\\_id & views & likes & dislikes & comment\\_count & category\\_id & trending\\_date\\\\\n",
       "\\hline\n",
       "\t26 & 0IC3II1i5yM & 0.003815189 & 0.003294335 & 0.03181393  & 0.02621956  & 25          & 17.20.12   \\\\\n",
       "\t16 & 0IC3II1i5yM & 0.003940052 & 0.003354414 & 0.03221494  & 0.02592870  & 25          & 17.23.12   \\\\\n",
       "\\end{tabular}\n"
      ],
      "text/markdown": [
       "\n",
       "| <!--/--> | video_id | views | likes | dislikes | comment_count | category_id | trending_date |\n",
       "|---|---|---|---|---|---|---|---|\n",
       "| 26 | 0IC3II1i5yM | 0.003815189 | 0.003294335 | 0.03181393  | 0.02621956  | 25          | 17.20.12    |\n",
       "| 16 | 0IC3II1i5yM | 0.003940052 | 0.003354414 | 0.03221494  | 0.02592870  | 25          | 17.23.12    |\n",
       "\n"
      ],
      "text/plain": [
       "   video_id    views       likes       dislikes   comment_count category_id\n",
       "26 0IC3II1i5yM 0.003815189 0.003294335 0.03181393 0.02621956    25         \n",
       "16 0IC3II1i5yM 0.003940052 0.003354414 0.03221494 0.02592870    25         \n",
       "   trending_date\n",
       "26 17.20.12     \n",
       "16 17.23.12     "
      ]
     },
     "metadata": {},
     "output_type": "display_data"
    }
   ],
   "source": [
    "# Output most similar pair\n",
    "ds[which(distance_matrix == min(distance_matrix[distance_matrix != min(distance_matrix)]),arr.ind = TRUE)[1, ], ]"
   ]
  },
  {
   "cell_type": "markdown",
   "metadata": {},
   "source": [
    "#### Most Different Pair\n",
    "\n",
    "- Now I checked which is the most different pair. \n",
    "- I the table below, I can clearly see that the values of each attributes says its distance from each other. \n",
    "- From this, I can expect that these two entries must lie in the first and last clusters or atleast must not be at the same cluster. "
   ]
  },
  {
   "cell_type": "code",
   "execution_count": 17,
   "metadata": {},
   "outputs": [
    {
     "data": {
      "text/html": [
       "<table>\n",
       "<thead><tr><th></th><th scope=col>video_id</th><th scope=col>views</th><th scope=col>likes</th><th scope=col>dislikes</th><th scope=col>comment_count</th><th scope=col>category_id</th><th scope=col>trending_date</th></tr></thead>\n",
       "<tbody>\n",
       "\t<tr><th scope=row>27</th><td>OTEIbWy8AvY</td><td>0.008573762</td><td>0.01692427 </td><td>0.01156263 </td><td>0.05646971 </td><td>28         </td><td>18.07.04   </td></tr>\n",
       "\t<tr><th scope=row>14</th><td>Bm8rz-llMhE</td><td>1.000000000</td><td>1.00000000 </td><td>1.00000000 </td><td>0.49854567 </td><td>10         </td><td>18.23.04   </td></tr>\n",
       "</tbody>\n",
       "</table>\n"
      ],
      "text/latex": [
       "\\begin{tabular}{r|lllllll}\n",
       "  & video\\_id & views & likes & dislikes & comment\\_count & category\\_id & trending\\_date\\\\\n",
       "\\hline\n",
       "\t27 & OTEIbWy8AvY & 0.008573762 & 0.01692427  & 0.01156263  & 0.05646971  & 28          & 18.07.04   \\\\\n",
       "\t14 & Bm8rz-llMhE & 1.000000000 & 1.00000000  & 1.00000000  & 0.49854567  & 10          & 18.23.04   \\\\\n",
       "\\end{tabular}\n"
      ],
      "text/markdown": [
       "\n",
       "| <!--/--> | video_id | views | likes | dislikes | comment_count | category_id | trending_date |\n",
       "|---|---|---|---|---|---|---|---|\n",
       "| 27 | OTEIbWy8AvY | 0.008573762 | 0.01692427  | 0.01156263  | 0.05646971  | 28          | 18.07.04    |\n",
       "| 14 | Bm8rz-llMhE | 1.000000000 | 1.00000000  | 1.00000000  | 0.49854567  | 10          | 18.23.04    |\n",
       "\n"
      ],
      "text/plain": [
       "   video_id    views       likes      dislikes   comment_count category_id\n",
       "27 OTEIbWy8AvY 0.008573762 0.01692427 0.01156263 0.05646971    28         \n",
       "14 Bm8rz-llMhE 1.000000000 1.00000000 1.00000000 0.49854567    10         \n",
       "   trending_date\n",
       "27 18.07.04     \n",
       "14 18.23.04     "
      ]
     },
     "metadata": {},
     "output_type": "display_data"
    }
   ],
   "source": [
    "# Output most dissimilar pair\n",
    "ds[\n",
    "  which(distance_matrix == max(distance_matrix[distance_matrix != max(distance_matrix)]),\n",
    "        arr.ind = TRUE)[1, ], ]"
   ]
  },
  {
   "cell_type": "markdown",
   "metadata": {},
   "source": [
    "### Optimal Number of Clusters\n",
    "\n",
    "- To know which is the optimal number of cluster to use, I used this itarating function of **factorextra** library. \n",
    "- I used this function for **PAM** howerver it can also be used for other algorithms. \n",
    "- From the two graphs given by two different methods **(basically elbow methods)**, both suggests that the optimal number of cluster is around 2 to 4.\n",
    "- I will use 3 for my applications.    "
   ]
  },
  {
   "cell_type": "code",
   "execution_count": 18,
   "metadata": {},
   "outputs": [
    {
     "data": {
      "image/png": "[encoded data removed]",
      "text/plain": [
       "plot without title"
      ]
     },
     "metadata": {},
     "output_type": "display_data"
    },
    {
     "data": {
      "image/png": "[encoded data removed]",
      "text/plain": [
       "plot without title"
      ]
     },
     "metadata": {},
     "output_type": "display_data"
    }
   ],
   "source": [
    "library(factoextra)\n",
    "fviz_nbclust(ds.toGowerCluster, pam, method=\"silhouette\")+theme_classic()\n",
    "fviz_nbclust(ds.toGowerCluster, pam, method=\"wss\")+theme_classic()"
   ]
  },
  {
   "cell_type": "markdown",
   "metadata": {},
   "source": [
    "## PAM\n",
    "\n",
    "- I will start on implementing *PAM* for Kmedoids.\n",
    "- The plot below shows the 3 clusters made from my data.\n",
    "- In the plot, we can clearly see that the **item 14** is in the upper right corner which is the farthest from other items. \n",
    "- To validate, we can see in the **Culstering vector** that the **item 14** belongs to cluster 3 while **item 27**  belongs to cluster 1. \n",
    "- And the **item 26** and **item 16** from the **Most Similar Pair** are belong to cluster 1. \n",
    "- Hence, the distance measurement validates the clustering."
   ]
  },
  {
   "cell_type": "code",
   "execution_count": 19,
   "metadata": {
    "scrolled": false
   },
   "outputs": [
    {
     "name": "stdout",
     "output_type": "stream",
     "text": [
      "Medoids:\n",
      "   ID          1          2          3           4         5         6\n",
      "49 49 0.02928968 0.05650714 0.25559799 0.005157492 0.0375030 0.1790148\n",
      "24 24 0.18455232 0.11700117 0.09806936 0.173398712 0.1386068 0.0460187\n",
      "41 41 0.52913596 0.45815395 0.28367993 0.516592749 0.4831905 0.3356463\n",
      "            7          8          9        10         11         12         13\n",
      "49 0.04291394 0.03210694 0.07675934 0.3766134 0.19900064 0.04066375 0.12564864\n",
      "24 0.13476944 0.15773995 0.11305224 0.2065360 0.04750359 0.15478248 0.05558787\n",
      "41 0.47676668 0.50232359 0.45763587 0.2713810 0.31566045 0.47399734 0.40017151\n",
      "          14         15         16         17         18         19         20\n",
      "49 0.7962117 0.02315999 0.01946367 0.02640094 0.13605819 0.24537007 0.03162081\n",
      "24 0.6261342 0.16360781 0.17159838 0.18166358 0.04011735 0.07529261 0.17206864\n",
      "41 0.4821323 0.50819145 0.51618202 0.52624722 0.37860290 0.26929103 0.51665227\n",
      "          21         22        23        24         25         26         27\n",
      "49 0.1108116 0.09166941 0.1328359 0.1700775 0.02821764 0.01936228 0.01996962\n",
      "24 0.1519258 0.11418455 0.0658763 0.0000000 0.15339465 0.17165740 0.18820215\n",
      "41 0.4038495 0.42299168 0.4104599 0.3445836 0.48644345 0.51624104 0.53278579\n",
      "           28         29         30        31         32        33        34\n",
      "49 0.02971689 0.01484243 0.02373473 0.2484295 0.12714107 0.1189548 0.1000636\n",
      "24 0.19979434 0.17059008 0.17899737 0.3153891 0.05431537 0.1562848 0.1373936\n",
      "41 0.54437798 0.51517372 0.52358101 0.2810464 0.39889901 0.3957063 0.4145975\n",
      "           35         36         37         38         39         40        41\n",
      "49 0.02926296 0.03360177 0.12917139 0.01575745 0.12732441 0.03134892 0.5146611\n",
      "24 0.18452560 0.17404960 0.06062951 0.18583490 0.06036482 0.16595623 0.3445836\n",
      "41 0.52910924 0.51863324 0.40288513 0.53041854 0.40494846 0.49574465 0.0000000\n",
      "           42        43        44         45         46         47         48\n",
      "49 0.08100131 0.1011403 0.3032922 0.05019729 0.02506546 0.05223212 0.01405134\n",
      "24 0.11774543 0.1775074 0.1486137 0.16219650 0.16229763 0.12951119 0.15726275\n",
      "41 0.46232907 0.4431504 0.2588578 0.48181021 0.50223083 0.46242897 0.50060975\n",
      "          49         50\n",
      "49 0.0000000 0.03216835\n",
      "24 0.1700775 0.15313178\n",
      "41 0.5146611 0.49730756\n",
      "Clustering vector:\n",
      " 1  2  3  4  5  6  7  8  9 10 11 12 13 14 15 16 17 18 19 20 21 22 23 24 25 26 \n",
      " 1  1  2  1  1  2  1  1  1  3  2  1  2  3  1  1  1  2  2  1  1  1  2  2  1  1 \n",
      "27 28 29 30 31 32 33 34 35 36 37 38 39 40 41 42 43 44 45 46 47 48 49 50 \n",
      " 1  1  1  1  2  2  1  1  1  1  2  1  2  1  3  1  1  2  1  1  1  1  1  1 \n",
      "Objective function:\n",
      "    build      swap \n",
      "0.3237363 0.3063861 \n",
      "\n",
      "Available components:\n",
      " [1] \"medoids\"    \"id.med\"     \"clustering\" \"objective\"  \"isolation\" \n",
      " [6] \"clusinfo\"   \"silinfo\"    \"diss\"       \"call\"       \"data\"      \n",
      "[11] \"clust_plot\" \"nbclust\"   \n"
     ]
    },
    {
     "data": {
      "image/png": "[encoded data removed]",
      "text/plain": [
       "plot without title"
      ]
     },
     "metadata": {},
     "output_type": "display_data"
    }
   ],
   "source": [
    "\n",
    "pm <- eclust(distance_matrix,FUNcluster=\"pam\", k=3)\n",
    "#fviz_cluster(pm,distance_matrix)\n",
    "print(pm)"
   ]
  },
  {
   "cell_type": "markdown",
   "metadata": {},
   "source": [
    "\n",
    "### Cluster Interpertation\n",
    "\n",
    "**As shown in the cluster summary below, :**\n",
    "\n",
    "1. I can  say that the cluster 1 mainly contain those videos that has the lowest \"views\", \"likes\", \"dislikes\", and \"comment_count\" and by looking at the \"category_id\" values, I can say that these videos mostly came from different and non-frequent categories. However, these videos still became trending regardless of date.\n",
    " \n",
    "2. In the 2nd cluster, I observed that the videos here has the middle values in terms of \"views\", \"likes\", \"dislikes\", and \"comment_count\" and it is also noticeable that the \"category_id\" became more frequent at 10.\n",
    "  \n",
    "3. Lastly, the 3rd cluster seems to have the most trending videos with the highes values in the same attributes except with the \"comment_count\". Does it mean that, a video doesnt need high comment_count to be trending?. Final observation is that, in this cluster all videos has the \"category_id\" 10 which is the \"Music\" category.\n",
    "\n",
    "  "
   ]
  },
  {
   "cell_type": "code",
   "execution_count": null,
   "metadata": {},
   "outputs": [],
   "source": []
  },
  {
   "cell_type": "code",
   "execution_count": 20,
   "metadata": {
    "scrolled": true
   },
   "outputs": [
    {
     "data": {
      "text/plain": [
       "[[1]]\n",
       "     views              likes             dislikes       comment_count    \n",
       " Min.   :0.000000   Min.   :0.000000   Min.   :0.00000   Min.   :0.00000  \n",
       " 1st Qu.:0.003878   1st Qu.:0.004188   1st Qu.:0.01474   1st Qu.:0.01706  \n",
       " Median :0.012480   Median :0.022476   Median :0.02914   Median :0.03507  \n",
       " Mean   :0.021274   Mean   :0.038279   Mean   :0.05842   Mean   :0.09035  \n",
       " 3rd Qu.:0.033887   3rd Qu.:0.058064   3rd Qu.:0.07596   3rd Qu.:0.09225  \n",
       " Max.   :0.079368   Max.   :0.229081   Max.   :0.28612   Max.   :0.75293  \n",
       "                                                                          \n",
       "  category_id     trending_date    cluster \n",
       " Min.   :17.00   18.01.01: 2    Min.   :1  \n",
       " 1st Qu.:24.00   18.26.01: 2    1st Qu.:1  \n",
       " Median :25.00   17.09.12: 1    Median :1  \n",
       " Mean   :24.51   17.13.12: 1    Mean   :1  \n",
       " 3rd Qu.:26.00   17.14.12: 1    3rd Qu.:1  \n",
       " Max.   :28.00   17.20.12: 1    Max.   :1  \n",
       "                 (Other) :27               \n",
       "\n",
       "[[2]]\n",
       "     views              likes            dislikes        comment_count    \n",
       " Min.   :0.002083   Min.   :0.01079   Min.   :0.006884   Min.   :0.01500  \n",
       " 1st Qu.:0.012952   1st Qu.:0.02498   1st Qu.:0.022925   1st Qu.:0.03106  \n",
       " Median :0.028029   Median :0.07496   Median :0.056911   Median :0.12719  \n",
       " Mean   :0.049464   Mean   :0.12425   Mean   :0.140146   Mean   :0.22826  \n",
       " 3rd Qu.:0.065807   3rd Qu.:0.17210   3rd Qu.:0.171250   3rd Qu.:0.29742  \n",
       " Max.   :0.192691   Max.   :0.44282   Max.   :0.635543   Max.   :1.00000  \n",
       "                                                                          \n",
       "  category_id      trending_date    cluster \n",
       " Min.   : 1.000   18.27.01:2     Min.   :2  \n",
       " 1st Qu.:10.000   18.30.01:2     1st Qu.:2  \n",
       " Median :10.000   17.14.11:1     Median :2  \n",
       " Mean   : 9.357   17.15.12:1     Mean   :2  \n",
       " 3rd Qu.:10.000   17.29.12:1     3rd Qu.:2  \n",
       " Max.   :10.000   18.01.04:1     Max.   :2  \n",
       "                  (Other) :6                \n",
       "\n",
       "[[3]]\n",
       "     views       likes      dislikes comment_count     category_id\n",
       " Min.   :1   Min.   :1   Min.   :1   Min.   :0.4985   Min.   :10  \n",
       " 1st Qu.:1   1st Qu.:1   1st Qu.:1   1st Qu.:0.4985   1st Qu.:10  \n",
       " Median :1   Median :1   Median :1   Median :0.4985   Median :10  \n",
       " Mean   :1   Mean   :1   Mean   :1   Mean   :0.4985   Mean   :10  \n",
       " 3rd Qu.:1   3rd Qu.:1   3rd Qu.:1   3rd Qu.:0.4985   3rd Qu.:10  \n",
       " Max.   :1   Max.   :1   Max.   :1   Max.   :0.4985   Max.   :10  \n",
       "                                                                  \n",
       "  trending_date    cluster \n",
       " 18.23.04:1     Min.   :3  \n",
       " 17.01.12:0     1st Qu.:3  \n",
       " 17.02.12:0     Median :3  \n",
       " 17.03.12:0     Mean   :3  \n",
       " 17.04.12:0     3rd Qu.:3  \n",
       " 17.05.12:0     Max.   :3  \n",
       " (Other) :0                \n"
      ]
     },
     "metadata": {},
     "output_type": "display_data"
    },
    {
     "data": {
      "text/html": [
       "<table>\n",
       "<thead><tr><th></th><th scope=col>video_id</th><th scope=col>views</th><th scope=col>likes</th><th scope=col>dislikes</th><th scope=col>comment_count</th><th scope=col>category_id</th><th scope=col>trending_date</th></tr></thead>\n",
       "<tbody>\n",
       "\t<tr><th scope=row>15</th><td>PT2fxswWSpQ</td><td>0.009752585</td><td>0.008625351</td><td>0.01831306 </td><td>0.03166293 </td><td>24         </td><td>18.16.04   </td></tr>\n",
       "\t<tr><th scope=row>18</th><td>aq-phmpUJ_E</td><td>0.031191470</td><td>0.047716795</td><td>0.05774629 </td><td>0.06112358 </td><td>10         </td><td>18.18.03   </td></tr>\n",
       "\t<tr><th scope=row>14</th><td>Bm8rz-llMhE</td><td>1.000000000</td><td>1.000000000</td><td>1.00000000 </td><td>0.49854567 </td><td>10         </td><td>18.23.04   </td></tr>\n",
       "</tbody>\n",
       "</table>\n"
      ],
      "text/latex": [
       "\\begin{tabular}{r|lllllll}\n",
       "  & video\\_id & views & likes & dislikes & comment\\_count & category\\_id & trending\\_date\\\\\n",
       "\\hline\n",
       "\t15 & PT2fxswWSpQ & 0.009752585 & 0.008625351 & 0.01831306  & 0.03166293  & 24          & 18.16.04   \\\\\n",
       "\t18 & aq-phmpUJ\\_E & 0.031191470   & 0.047716795   & 0.05774629    & 0.06112358    & 10            & 18.18.03     \\\\\n",
       "\t14 & Bm8rz-llMhE & 1.000000000 & 1.000000000 & 1.00000000  & 0.49854567  & 10          & 18.23.04   \\\\\n",
       "\\end{tabular}\n"
      ],
      "text/markdown": [
       "\n",
       "| <!--/--> | video_id | views | likes | dislikes | comment_count | category_id | trending_date |\n",
       "|---|---|---|---|---|---|---|---|\n",
       "| 15 | PT2fxswWSpQ | 0.009752585 | 0.008625351 | 0.01831306  | 0.03166293  | 24          | 18.16.04    |\n",
       "| 18 | aq-phmpUJ_E | 0.031191470 | 0.047716795 | 0.05774629  | 0.06112358  | 10          | 18.18.03    |\n",
       "| 14 | Bm8rz-llMhE | 1.000000000 | 1.000000000 | 1.00000000  | 0.49854567  | 10          | 18.23.04    |\n",
       "\n"
      ],
      "text/plain": [
       "   video_id    views       likes       dislikes   comment_count category_id\n",
       "15 PT2fxswWSpQ 0.009752585 0.008625351 0.01831306 0.03166293    24         \n",
       "18 aq-phmpUJ_E 0.031191470 0.047716795 0.05774629 0.06112358    10         \n",
       "14 Bm8rz-llMhE 1.000000000 1.000000000 1.00000000 0.49854567    10         \n",
       "   trending_date\n",
       "15 18.16.04     \n",
       "18 18.18.03     \n",
       "14 18.23.04     "
      ]
     },
     "metadata": {},
     "output_type": "display_data"
    }
   ],
   "source": [
    "library(cluster)\n",
    "pam.fit <- pam(gower_dist, diss = TRUE, k = 3)\n",
    "pam.res <- ds %>%\n",
    "  dplyr::select(-\"video_id\") %>%\n",
    "  mutate(cluster = pam.fit$clustering) %>%\n",
    "  group_by(cluster) %>%\n",
    "  do(the_summary = summary(.))\n",
    "\n",
    "pam.res$the_summary\n",
    "ds[pam.fit$medoids,]"
   ]
  },
  {
   "cell_type": "markdown",
   "metadata": {},
   "source": [
    "## Hierarchical\n",
    "\n",
    "\n",
    "- To compare with other methods I implemented another algorithms.\n",
    "- Here, I used Hierchical Clustering in which I've got a Cluster Dendrogram as an output.\n",
    "- This Dendrogram  shows the distances between each items in my dataset. \n",
    "- We can also see here that the top most item is the **item 14** and equivalently **item 27** belongs to the lowest. \n"
   ]
  },
  {
   "cell_type": "code",
   "execution_count": 21,
   "metadata": {},
   "outputs": [
    {
     "data": {
      "image/png": "[encoded data removed]",
      "text/plain": [
       "Plot with title \"Cluster Dendrogram\""
      ]
     },
     "metadata": {},
     "output_type": "display_data"
    },
    {
     "data": {
      "image/png": "[encoded data removed]",
      "text/plain": [
       "plot without title"
      ]
     },
     "metadata": {},
     "output_type": "display_data"
    }
   ],
   "source": [
    "\n",
    "mat = daisy(ds.toGowerCluster, metric = \"gower\")\n",
    "hier = hclust(mat)\n",
    "plot(hier)\n",
    "res = cutree(hier,3)\n",
    "plot(ds.toGowerCluster,col=res)"
   ]
  },
  {
   "cell_type": "markdown",
   "metadata": {},
   "source": [
    "\n",
    "## DBSCAN\n",
    "\n",
    "- I also implemented DBSCAN for Density-based spatial clustering. \n",
    "- This approach is almost identical with Hierarchical Clustering.\n",
    "- Hence we can clearly see that ther is no much different on result."
   ]
  },
  {
   "cell_type": "code",
   "execution_count": 22,
   "metadata": {},
   "outputs": [
    {
     "data": {
      "image/png": "[encoded data removed]",
      "text/plain": [
       "plot without title"
      ]
     },
     "metadata": {},
     "output_type": "display_data"
    }
   ],
   "source": [
    "library(fpc)\n",
    "\n",
    "mat = daisy(ds.toGowerCluster, metric = \"gower\")\n",
    "res = dbscan(mat,eps = 3)\n",
    "\n",
    "plot(ds.toGowerCluster, col=res$cluster)"
   ]
  }
 ],
 "metadata": {
  "kernelspec": {
   "display_name": "R",
   "language": "R",
   "name": "ir"
  },
  "language_info": {
   "codemirror_mode": "r",
   "file_extension": ".r",
   "mimetype": "text/x-r-source",
   "name": "R",
   "pygments_lexer": "r",
   "version": "3.6.1"
  }
 },
 "nbformat": 4,
 "nbformat_minor": 4
}
